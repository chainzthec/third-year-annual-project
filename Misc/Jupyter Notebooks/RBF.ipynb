{
 "cells": [
  {
   "cell_type": "code",
   "execution_count": 50,
   "metadata": {},
   "outputs": [],
   "source": [
    "import sys\n",
    "sys.path.append(\"..\") # Adds higher directory to python modules path.\n",
    "import haste\n",
    "import subprocess\n",
    "import numpy as np\n",
    "from pprint import pprint"
   ]
  },
  {
   "cell_type": "markdown",
   "metadata": {},
   "source": [
    "# Generate DLL files"
   ]
  },
  {
   "cell_type": "code",
   "execution_count": 48,
   "metadata": {},
   "outputs": [
    {
     "data": {
      "text/plain": [
       "CompletedProcess(args='call ../Tools/generateDLLWindows.bat', returncode=1)"
      ]
     },
     "execution_count": 48,
     "metadata": {},
     "output_type": "execute_result"
    }
   ],
   "source": [
    "subprocess.run(\"call ../Tools/generateDLLWindows.bat\", shell=True)"
   ]
  },
  {
   "cell_type": "markdown",
   "metadata": {},
   "source": [
    "# Test RBF"
   ]
  },
  {
   "cell_type": "code",
   "execution_count": 49,
   "metadata": {},
   "outputs": [
    {
     "name": "stdout",
     "output_type": "stream",
     "text": [
      "[0.3204911261717913,\n",
      " -0.7294326506336148,\n",
      " -0.6399998786902708,\n",
      " -0.3026689500068076,\n",
      " 0.17854152646826194,\n",
      " 0.5273959463556137,\n",
      " 0.5471483435556692,\n",
      " -0.08717166506592666,\n",
      " 0.05434418868121127,\n",
      " 0.11558000391474521,\n",
      " 0.1723325414450998,\n",
      " -0.6026632980143447,\n",
      " 0.13374089393385535,\n",
      " -0.8345427182687826,\n",
      " 0.5806263895998396,\n",
      " 0.33597662754355473,\n",
      " 0.5515503295515609,\n",
      " -0.6434648683576696,\n",
      " -0.3647699143089782,\n",
      " -0.7647622444766009]\n",
      "[-0.43324299728885385,\n",
      " -0.9455684304174106,\n",
      " -0.5569172913774516,\n",
      " -0.930885666436162,\n",
      " 0.413784581273954,\n",
      " -0.6845664505861933,\n",
      " 0.09043563871496874,\n",
      " -0.18643291875416934,\n",
      " -0.6837778363294946,\n",
      " 0.7284460311391912]\n",
      "Pred :  -0.09965171950216245\n"
     ]
    }
   ],
   "source": [
    "X = np.random.uniform(low=-1.0,high=1.0,size=20).tolist()\n",
    "Y = np.random.uniform(low=-1.0,high=1.0,size=10).tolist()\n",
    "\n",
    "pprint(X)\n",
    "pprint(Y)\n",
    "inputCountPerSample = int(len(X) / len(Y))\n",
    "sampleCount = 2\n",
    "\n",
    "model1 = haste.train(X, Y, inputCountPerSample, sampleCount, 100, method=\"NAIVE_RBF\")\n",
    "print(\"Pred : \",haste.predict(model1, [0.28093573, 0.36177096], method=\"NAIVE_RBF\"))"
   ]
  },
  {
   "cell_type": "code",
   "execution_count": 41,
   "metadata": {},
   "outputs": [],
   "source": []
  },
  {
   "cell_type": "code",
   "execution_count": 42,
   "metadata": {},
   "outputs": [
    {
     "data": {
      "text/plain": [
       "CompletedProcess(args='echo OK', returncode=0)"
      ]
     },
     "execution_count": 42,
     "metadata": {},
     "output_type": "execute_result"
    }
   ],
   "source": [
    "subprocess.run(\"echo OK\", shell=True)"
   ]
  },
  {
   "cell_type": "code",
   "execution_count": null,
   "metadata": {},
   "outputs": [],
   "source": []
  },
  {
   "cell_type": "code",
   "execution_count": null,
   "metadata": {},
   "outputs": [],
   "source": []
  }
 ],
 "metadata": {
  "kernelspec": {
   "display_name": "Python 3",
   "language": "python",
   "name": "python3"
  },
  "language_info": {
   "codemirror_mode": {
    "name": "ipython",
    "version": 3
   },
   "file_extension": ".py",
   "mimetype": "text/x-python",
   "name": "python",
   "nbconvert_exporter": "python",
   "pygments_lexer": "ipython3",
   "version": "3.7.2"
  }
 },
 "nbformat": 4,
 "nbformat_minor": 1
}
