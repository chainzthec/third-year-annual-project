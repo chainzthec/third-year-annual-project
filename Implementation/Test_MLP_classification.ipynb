{
 "cells": [
  {
   "cell_type": "markdown",
   "metadata": {},
   "source": [
    "# Perceptron Multi Couches"
   ]
  },
  {
   "cell_type": "code",
   "execution_count": 4,
   "metadata": {},
   "outputs": [],
   "source": [
    "import MLP.CLibrary as CLib\n",
    "import matplotlib.lines as mlines\n",
    "import matplotlib.pyplot as plt\n",
    "import numpy as np\n",
    "import math"
   ]
  },
  {
   "cell_type": "code",
   "execution_count": 5,
   "metadata": {},
   "outputs": [],
   "source": [
    "def get(i, l):\n",
    "    return [z[i] for z in l]"
   ]
  },
  {
   "cell_type": "code",
   "execution_count": null,
   "metadata": {},
   "outputs": [],
   "source": []
  },
  {
   "cell_type": "markdown",
   "metadata": {},
   "source": [
    "## Single Class"
   ]
  },
  {
   "cell_type": "markdown",
   "metadata": {},
   "source": [
    "### Linear Multiple :\n",
    "- <font color='green'>Linear Model : OK</font>\n",
    "- <font color='green'>MLP (2, 1) : OK</font>"
   ]
  },
  {
   "cell_type": "code",
   "execution_count": 6,
   "metadata": {},
   "outputs": [
    {
     "data": {
      "text/plain": [
       "781237520"
      ]
     },
     "execution_count": 6,
     "metadata": {},
     "output_type": "execute_result"
    }
   ],
   "source": [
    "X = np.concatenate([np.random.random((50, 2)) * 0.9 + np.array([1, 1]), np.random.random((50,2)) * 0.9 + np.array([2, 2])])\n",
    "Y = np.concatenate([np.ones((50, 1)), np.ones((50, 1)) * -1.0])\n",
    "\n",
    "XF = X.flatten().tolist()\n",
    "YF = Y.flatten().tolist()\n",
    "\n",
    "N = [2, 1]  \n",
    "mlpClassif_1 = CLib.init(N)\n",
    "\n",
    "sampleCount = 100\n",
    "\n",
    "CLib.fit_classification(\n",
    "    mlpClassif_1,\n",
    "    XF, \n",
    "    YF,\n",
    "    sampleCount,\n",
    "    50000,\n",
    "    0.001 \n",
    ")"
   ]
  },
  {
   "cell_type": "code",
   "execution_count": 7,
   "metadata": {},
   "outputs": [
    {
     "data": {
      "image/png": "[encoded data removed]",
      "text/plain": [
       "<Figure size 432x288 with 1 Axes>"
      ]
     },
     "metadata": {
      "needs_background": "light"
     },
     "output_type": "display_data"
    },
    {
     "data": {
      "text/plain": [
       "<Figure size 432x288 with 0 Axes>"
      ]
     },
     "metadata": {},
     "output_type": "display_data"
    }
   ],
   "source": [
    "XToPredict = [\n",
    "    [i / 100.0, j / 100.0]\n",
    "    for i in range(0, 300) for j in range(0, 300)\n",
    "]\n",
    "YPredicted = [\n",
    "    CLib.predict(mlpClassif_1, x, N) for x in XToPredict\n",
    "]\n",
    "\n",
    "yellow = []\n",
    "purple = []\n",
    "for i, val in enumerate(YPredicted):\n",
    "    if val[0] >= 0:\n",
    "        purple.append(XToPredict[i])\n",
    "    else:\n",
    "        yellow.append(XToPredict[i])\n",
    "        \n",
    "plt.scatter(\n",
    "    get(0, yellow),\n",
    "    get(1, yellow),\n",
    "    color=\"yellow\"\n",
    ")\n",
    "plt.scatter(\n",
    "    get(0, purple),\n",
    "    get(1, purple),\n",
    "    color=\"violet\"\n",
    ")\n",
    "plt.scatter(\n",
    "    get(0, [x for j, x in enumerate(X) if Y[j] > 0]),\n",
    "    get(1, [x for j, x in enumerate(X) if Y[j] > 0]),\n",
    "    color='red'\n",
    ")\n",
    "plt.scatter(\n",
    "    get(0, [x for j, x in enumerate(X) if Y[j] < 0]),\n",
    "    get(1, [x for j, x in enumerate(X) if Y[j] < 0]),\n",
    "    color='blue'\n",
    ")\n",
    "plt.show()\n",
    "plt.clf()"
   ]
  },
  {
   "cell_type": "markdown",
   "metadata": {},
   "source": [
    "### XOR :\n",
    "- <font color='red'>Linear Model : KO</font>\n",
    "- <font color='green'>MLP (2, 2, 1) : OK</font>"
   ]
  },
  {
   "cell_type": "code",
   "execution_count": 8,
   "metadata": {
    "scrolled": true
   },
   "outputs": [
    {
     "data": {
      "text/plain": [
       "1208228344"
      ]
     },
     "execution_count": 8,
     "metadata": {},
     "output_type": "execute_result"
    }
   ],
   "source": [
    "X = np.array([[0, 0], [1, 0], [0, 1], [1, 1]])\n",
    "Y = np.array([1, -1, -1, 1])\n",
    "\n",
    "XF = X.flatten().tolist()\n",
    "YF = Y.flatten().tolist()\n",
    "\n",
    "sampleCount = 4\n",
    "\n",
    "N = [2, 2, 1]  \n",
    "mlpClassif_2 = CLib.init(N)\n",
    "\n",
    "CLib.fit_classification(\n",
    "    mlpClassif_2,\n",
    "    XF, \n",
    "    YF,\n",
    "    sampleCount,\n",
    "    5000,\n",
    "    0.01 \n",
    ")"
   ]
  },
  {
   "cell_type": "code",
   "execution_count": 9,
   "metadata": {},
   "outputs": [
    {
     "data": {
      "image/png": "[encoded data removed]",
      "text/plain": [
       "<Figure size 432x288 with 1 Axes>"
      ]
     },
     "metadata": {
      "needs_background": "light"
     },
     "output_type": "display_data"
    },
    {
     "data": {
      "text/plain": [
       "<Figure size 432x288 with 0 Axes>"
      ]
     },
     "metadata": {},
     "output_type": "display_data"
    }
   ],
   "source": [
    "XToPredict = [\n",
    "    [i / 100.0, j / 100.0]\n",
    "    for i in range(0, 100) for j in range(0, 100)\n",
    "]\n",
    "YPredicted = [\n",
    "    CLib.predict(mlpClassif_2, x, N) for x in XToPredict\n",
    "]\n",
    "\n",
    "yellow = []\n",
    "purple = []\n",
    "for i, val in enumerate(YPredicted):\n",
    "    if val[0] >= 0:\n",
    "        purple.append(XToPredict[i])\n",
    "    else:\n",
    "        yellow.append(XToPredict[i])\n",
    "        \n",
    "plt.scatter(\n",
    "    get(0, yellow),\n",
    "    get(1, yellow),\n",
    "    color=\"yellow\"\n",
    ")\n",
    "plt.scatter(\n",
    "    get(0, purple),\n",
    "    get(1, purple),\n",
    "    color=\"violet\"\n",
    ")\n",
    "plt.scatter(\n",
    "    get(0, [x for j, x in enumerate(X) if Y[j] > 0]),\n",
    "    get(1, [x for j, x in enumerate(X) if Y[j] > 0]),\n",
    "    color='red'\n",
    ")\n",
    "plt.scatter(\n",
    "    get(0, [x for j, x in enumerate(X) if Y[j] < 0]),\n",
    "    get(1, [x for j, x in enumerate(X) if Y[j] < 0]),\n",
    "    color='blue'\n",
    ")\n",
    "plt.show()\n",
    "plt.clf()"
   ]
  },
  {
   "cell_type": "markdown",
   "metadata": {},
   "source": [
    "### Cross :\n",
    "- <font color='red'>Linear Model : KO</font>\n",
    "- <font color='green'>MLP (2, 4, 1) : OK</font>"
   ]
  },
  {
   "cell_type": "code",
   "execution_count": 11,
   "metadata": {},
   "outputs": [
    {
     "data": {
      "text/plain": [
       "1212283696"
      ]
     },
     "execution_count": 11,
     "metadata": {},
     "output_type": "execute_result"
    }
   ],
   "source": [
    "X = np.random.random((500, 2)) * 2.0 - 1.0\n",
    "Y = np.array([1 if abs(p[0]) <= 0.3 or abs(p[1]) <= 0.3 else -1 for p in X])\n",
    "\n",
    "XF = X.flatten().tolist()\n",
    "YF = Y.flatten().tolist()\n",
    "\n",
    "sampleCount = 500\n",
    "\n",
    "N = [2, 4, 1]  \n",
    "mlpClassif_3 = CLib.init(N)\n",
    "\n",
    "CLib.fit_classification(\n",
    "    mlpClassif_3,\n",
    "    XF, \n",
    "    YF,\n",
    "    sampleCount,\n",
    "    1000,\n",
    "    0.01 \n",
    ")"
   ]
  },
  {
   "cell_type": "code",
   "execution_count": 12,
   "metadata": {},
   "outputs": [
    {
     "data": {
      "image/png": "[encoded data removed]",
      "text/plain": [
       "<Figure size 432x288 with 1 Axes>"
      ]
     },
     "metadata": {
      "needs_background": "light"
     },
     "output_type": "display_data"
    },
    {
     "data": {
      "text/plain": [
       "<Figure size 432x288 with 0 Axes>"
      ]
     },
     "metadata": {},
     "output_type": "display_data"
    }
   ],
   "source": [
    "XToPredict = [\n",
    "    [i / 100.0, j / 100.0]\n",
    "    for i in range(-100, 100) for j in range(-100, 100)\n",
    "]\n",
    "YPredicted = [\n",
    "    CLib.predict(mlpClassif_3, x, N) for x in XToPredict\n",
    "]\n",
    "\n",
    "yellow = []\n",
    "purple = []\n",
    "for i, val in enumerate(YPredicted):\n",
    "    if val[0] >= 0:\n",
    "        purple.append(XToPredict[i])\n",
    "    else:\n",
    "        yellow.append(XToPredict[i])\n",
    "        \n",
    "plt.scatter(\n",
    "    get(0, yellow),\n",
    "    get(1, yellow),\n",
    "    color=\"yellow\"\n",
    ")\n",
    "plt.scatter(\n",
    "    get(0, purple),\n",
    "    get(1, purple),\n",
    "    color=\"violet\"\n",
    ")\n",
    "plt.scatter(\n",
    "    get(0, [x for j, x in enumerate(X) if Y[j] < 0]),\n",
    "    get(1, [x for j, x in enumerate(X) if Y[j] < 0]),\n",
    "    color='red'\n",
    ")\n",
    "plt.scatter(\n",
    "    get(0, [x for j, x in enumerate(X) if Y[j] > 0]),\n",
    "    get(1, [x for j, x in enumerate(X) if Y[j] > 0]),\n",
    "    color='blue'\n",
    ")\n",
    "plt.show()\n",
    "plt.clf()"
   ]
  },
  {
   "cell_type": "markdown",
   "metadata": {},
   "source": [
    "## Multi Class"
   ]
  },
  {
   "cell_type": "markdown",
   "metadata": {},
   "source": [
    "### Linear Multiple :\n",
    "- <font color='green'>Linear Model : OK</font>\n",
    "- <font color='green'>MLP (2, 3) : OK</font>"
   ]
  },
  {
   "cell_type": "code",
   "execution_count": null,
   "metadata": {},
   "outputs": [],
   "source": [
    "X = np.random.random((500, 2)) * 2.0 - 1.0\n",
    "Y = np.array([ [1, -1, -1] if -p[0] - p[1] - 0.5 > 0 and p[1] < 0 and p[0] - p[1] - 0.5 < 0 else \n",
    "              [-1, 1, -1] if -p[0] - p[1] - 0.5 < 0 and p[1] > 0 and p[0] - p[1] - 0.5 < 0 else \n",
    "              [-1, -1, 1] if -p[0] - p[1] - 0.5 < 0 and p[1] < 0 and p[0] - p[1] - 0.5 > 0 else \n",
    "              [-1, -1, -1] for p in X ])\n",
    "\n",
    "XF = X.flatten().tolist()\n",
    "YF = Y.flatten().tolist()\n",
    "\n",
    "XX = X.tolist()\n",
    "YY = Y.tolist()\n",
    "\n",
    "sampleCount = 500\n",
    "\n",
    "N = [2, 2, 3]\n",
    "mlpClassif_4 = CLib.init(N)\n",
    "\n",
    "mlpClassif_4 = CLib.fit_classification(\n",
    "    mlpClassif_4,\n",
    "    XF, \n",
    "    YF,\n",
    "    sampleCount,\n",
    "    10000,\n",
    "    0.1 \n",
    ")\n",
    "\n",
    "XToPredict = [\n",
    "    [i / 100.0, j / 100.0]\n",
    "    for i in range(-150, 150) for j in range(-150, 150)\n",
    "]\n",
    "YPredicted = [\n",
    "    CLib.predict(mlpClassif_4, x, N) for x in XToPredict\n",
    "]\n",
    "\n",
    "yellow = []\n",
    "purple = []\n",
    "brown = []\n",
    "\n",
    "for i, val in enumerate(YPredicted):\n",
    "    \n",
    "    #print(val)\n",
    "    \n",
    "    maxindex = val.index(max(val))\n",
    "    \n",
    "    if maxindex == 0 :\n",
    "        yellow.append(XToPredict[i])\n",
    "    elif maxindex == 1 :\n",
    "        brown.append(XToPredict[i])\n",
    "    elif maxindex == 2 :\n",
    "        purple.append(XToPredict[i])\n",
    "\n",
    "def get(i, l):\n",
    "    return [z[i] for z in l]\n",
    "\n",
    "plt.scatter(\n",
    "    get(0, yellow),\n",
    "    get(1, yellow),\n",
    "    color=\"yellow\"\n",
    ")\n",
    "plt.scatter(\n",
    "    get(0, purple),\n",
    "    get(1, purple),\n",
    "    color=\"violet\"\n",
    ")\n",
    "plt.scatter(\n",
    "    get(0, brown),\n",
    "    get(1, brown),\n",
    "    color=\"brown\"\n",
    ")\n",
    "plt.scatter(\n",
    "    get(0, [x for j, x in enumerate(XX) if YY[j] == [1, -1, -1] ]),\n",
    "    get(1, [x for j, x in enumerate(XX) if YY[j] == [1, -1, -1] ]),\n",
    "    color='red'\n",
    ")\n",
    "plt.scatter(\n",
    "    get(0, [x for j, x in enumerate(XX) if YY[j] == [-1, 1, -1] ]),\n",
    "    get(1, [x for j, x in enumerate(XX) if YY[j] == [-1, 1, -1] ]),\n",
    "    color='green'\n",
    ")\n",
    "plt.scatter(\n",
    "    get(0, [x for j, x in enumerate(XX) if YY[j] == [-1, -1, 1] ]),\n",
    "    get(1, [x for j, x in enumerate(XX) if YY[j] == [-1, -1, 1] ]),\n",
    "    color='blue'\n",
    ")\n",
    "plt.show()\n",
    "plt.clf()"
   ]
  },
  {
   "cell_type": "markdown",
   "metadata": {},
   "source": [
    "### Multi Cross :\n",
    "- <font color='red'>Linear Model x3 : KO</font>\n",
    "- <font color='green'>MLP (2, ?, ?, 1) : OK</font>"
   ]
  },
  {
   "cell_type": "code",
   "execution_count": 15,
   "metadata": {},
   "outputs": [],
   "source": [
    "X = np.random.random((1000, 2)) * 2.0 - 1.0\n",
    "Y = np.array([[1, 0, 0] if abs(p[0] % 0.5) <= 0.25 and abs(p[1] % 0.5) > 0.25 else [0, 1, 0] if abs(p[0] % 0.5) > 0.25 and abs(p[1] % 0.5) <= 0.25 else [0, 0, 1] for p in X])\n",
    "\n",
    "XF = X.flatten().tolist()\n",
    "YF = Y.flatten().tolist()\n",
    "\n",
    "sampleCount = 1000"
   ]
  },
  {
   "cell_type": "markdown",
   "metadata": {},
   "source": [
    "##### 1 - MLP (2, 2, 2, 3)"
   ]
  },
  {
   "cell_type": "code",
   "execution_count": null,
   "metadata": {},
   "outputs": [],
   "source": [
    "N = [2, 2, 2, 3]\n",
    "mlpClassif_5_1 = CLib.init(N)\n",
    "\n",
    "mlpClassif_5_1 = CLib.fit_classification(\n",
    "    mlpClassif_5_1,\n",
    "    XF, \n",
    "    YF,\n",
    "    sampleCount,\n",
    "    10000,\n",
    "    0.01 \n",
    ")"
   ]
  },
  {
   "cell_type": "code",
   "execution_count": null,
   "metadata": {
    "scrolled": true
   },
   "outputs": [],
   "source": [
    "XToPredict = [\n",
    "    [i / 100.0, j / 100.0]\n",
    "    for i in range(-100, 100) for j in range(-100, 100)\n",
    "]\n",
    "YPredicted = [\n",
    "    CLib.predict(mlpClassif_5_1, x, N) for x in XToPredict\n",
    "]\n",
    "\n",
    "yellows = []\n",
    "purples = []\n",
    "browns = []\n",
    "\n",
    "for i, val in enumerate(YPredicted):\n",
    "    #print(val)\n",
    "    maxindex = val.index(max(val))\n",
    "    \n",
    "    if maxindex == 0:\n",
    "        yellows.append(XToPredict[i])\n",
    "    elif maxindex == 1:\n",
    "        browns.append(XToPredict[i])\n",
    "    elif maxindex == 2:\n",
    "        purples.append(XToPredict[i])\n",
    "\n",
    "def get(i, l):\n",
    "    return [z[i] for z in l]\n",
    "\n",
    "plt.scatter(\n",
    "    get(0, yellows),\n",
    "    get(1, yellows),\n",
    "    color=\"yellow\"\n",
    ")\n",
    "plt.scatter(\n",
    "    get(0, purples),\n",
    "    get(1, purples),\n",
    "    color=\"violet\"\n",
    ")\n",
    "plt.scatter(\n",
    "    get(0, browns),\n",
    "    get(1, browns),\n",
    "    color=\"brown\"\n",
    ")\n",
    "plt.scatter(\n",
    "    get(0, [x for j, x in enumerate(X) if (Y[j] == [1, 0, 0]).all() ]),\n",
    "    get(1, [x for j, x in enumerate(X) if (Y[j] == [1, 0, 0]).all() ]),\n",
    "    color='red'\n",
    ")\n",
    "plt.scatter(\n",
    "    get(0, [x for j, x in enumerate(X) if (Y[j] == [0, 1, 0]).all() ]),\n",
    "    get(1, [x for j, x in enumerate(X) if (Y[j] == [0, 1, 0]).all() ]),\n",
    "    color='green'\n",
    ")\n",
    "plt.scatter(\n",
    "    get(0, [x for j, x in enumerate(X) if (Y[j] == [0, 0, 1]).all() ]),\n",
    "    get(1, [x for j, x in enumerate(X) if (Y[j] == [0, 0, 1]).all() ]),\n",
    "    color='blue'\n",
    ")\n",
    "plt.show()\n",
    "plt.clf()"
   ]
  },
  {
   "cell_type": "code",
   "execution_count": null,
   "metadata": {},
   "outputs": [],
   "source": []
  },
  {
   "cell_type": "markdown",
   "metadata": {},
   "source": [
    "##### 1 - MLP (2, 4, 6, 3)"
   ]
  },
  {
   "cell_type": "code",
   "execution_count": null,
   "metadata": {},
   "outputs": [],
   "source": [
    "N = [2, 4, 6, 3]\n",
    "mlpClassif_5_2 = CLib.init(N)\n",
    "\n",
    "CLib.fit_classification(\n",
    "    mlpClassif_5_2,\n",
    "    XF, \n",
    "    YF,\n",
    "    sampleCount,\n",
    "    10000,\n",
    "    0.01 \n",
    ")"
   ]
  },
  {
   "cell_type": "code",
   "execution_count": null,
   "metadata": {},
   "outputs": [],
   "source": [
    "XToPredict = [\n",
    "    [i / 100.0, j / 100.0]\n",
    "    for i in range(-100, 100) for j in range(-100, 100)\n",
    "]\n",
    "YPredicted = [\n",
    "    CLib.predict(mlpClassif_5_2, x, N) for x in XToPredict\n",
    "]\n",
    "\n",
    "reds = []\n",
    "blues = []\n",
    "greens = []\n",
    "\n",
    "for i, val in enumerate(YPredicted):\n",
    "    maxindex = val.index(max(val))\n",
    "    \n",
    "    if maxindex == 0:\n",
    "        reds.append(XToPredict[i])\n",
    "    elif maxindex == 1:\n",
    "        greens.append(XToPredict[i])\n",
    "    elif maxindex == 2:\n",
    "        blues.append(XToPredict[i])\n",
    "\n",
    "def get(i, l):\n",
    "    return [z[i] for z in l]\n",
    "\n",
    "plt.scatter(\n",
    "    get(0, reds),\n",
    "    get(1, reds),\n",
    "    color=\"yellow\"\n",
    ")\n",
    "plt.scatter(\n",
    "    get(0, blues),\n",
    "    get(1, blues),\n",
    "    color=\"violet\"\n",
    ")\n",
    "plt.scatter(\n",
    "    get(0, greens),\n",
    "    get(1, greens),\n",
    "    color=\"brown\"\n",
    ")\n",
    "plt.scatter(\n",
    "    get(0, [x for j, x in enumerate(X) if (Y[j] == [1, 0, 0]).all() ]),\n",
    "    get(1, [x for j, x in enumerate(X) if (Y[j] == [1, 0, 0]).all() ]),\n",
    "    color='red'\n",
    ")\n",
    "plt.scatter(\n",
    "    get(0, [x for j, x in enumerate(X) if (Y[j] == [0, 1, 0]).all() ]),\n",
    "    get(1, [x for j, x in enumerate(X) if (Y[j] == [0, 1, 0]).all() ]),\n",
    "    color='green'\n",
    ")\n",
    "plt.scatter(\n",
    "    get(0, [x for j, x in enumerate(X) if (Y[j] == [0, 0, 1]).all() ]),\n",
    "    get(1, [x for j, x in enumerate(X) if (Y[j] == [0, 0, 1]).all() ]),\n",
    "    color='blue'\n",
    ")\n",
    "plt.show()\n",
    "plt.clf()"
   ]
  }
 ],
 "metadata": {
  "kernelspec": {
   "display_name": "Python 3",
   "language": "python",
   "name": "python3"
  },
  "language_info": {
   "codemirror_mode": {
    "name": "ipython",
    "version": 3
   },
   "file_extension": ".py",
   "mimetype": "text/x-python",
   "name": "python",
   "nbconvert_exporter": "python",
   "pygments_lexer": "ipython3",
   "version": "3.7.2"
  },
  "widgets": {
   "application/vnd.jupyter.widget-state+json": {
    "state": {},
    "version_major": 2,
    "version_minor": 0
   }
  }
 },
 "nbformat": 4,
 "nbformat_minor": 2
}
