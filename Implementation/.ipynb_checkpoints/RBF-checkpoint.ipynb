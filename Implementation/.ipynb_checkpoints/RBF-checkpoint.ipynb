{
 "cells": [
  {
   "cell_type": "code",
   "execution_count": 13,
   "metadata": {},
   "outputs": [],
   "source": [
    "import sys\n",
    "sys.path.append(\"..\") # Adds higher directory to python modules path."
   ]
  },
  {
   "cell_type": "code",
   "execution_count": 30,
   "metadata": {},
   "outputs": [],
   "source": [
    "import haste\n",
    "import numpy as np\n",
    "from pprint import pprint"
   ]
  },
  {
   "cell_type": "markdown",
   "metadata": {},
   "source": [
    "# Test RBF"
   ]
  },
  {
   "cell_type": "code",
   "execution_count": 35,
   "metadata": {},
   "outputs": [
    {
     "name": "stdout",
     "output_type": "stream",
     "text": [
      "[0.15090584393684747,\n",
      " 0.09813535877182211,\n",
      " 0.4636453479369407,\n",
      " 0.2419164595080343,\n",
      " 0.41767306925565173,\n",
      " 0.6538891587505168,\n",
      " 0.8093042137511213,\n",
      " 0.3386921509674444,\n",
      " 0.9528029332094302,\n",
      " 0.38408794889903475,\n",
      " 0.6465868941500006,\n",
      " 0.30581298787638933,\n",
      " 0.4869412151523119,\n",
      " 0.105436706797982,\n",
      " 0.30743943713841615,\n",
      " 0.9014143431126778,\n",
      " 0.9691382496658596,\n",
      " 0.8006669058155194,\n",
      " 0.6651117979943253,\n",
      " 0.8145920988259723]\n",
      "[0.1103322917175863,\n",
      " 0.7789808645431526,\n",
      " 0.6098047835683551,\n",
      " 0.14343407406881992,\n",
      " 0.7058542718092928,\n",
      " 0.1302897410552637,\n",
      " 0.24803159940310704,\n",
      " 0.3586016776094817,\n",
      " 0.2691949158923238,\n",
      " 0.2859322947301143]\n",
      "0.5421884828551964\n"
     ]
    }
   ],
   "source": [
    "X = np.random.rand(10,2).flatten().tolist()\n",
    "Y = np.random.rand(10,1).flatten().tolist()\n",
    "\n",
    "pprint(X)\n",
    "pprint(Y)\n",
    "inputCountPerSample = int(len(X) / len(Y))\n",
    "sampleCount = 2\n",
    "\n",
    "model1 = haste.train(X, Y, inputCountPerSample, sampleCount, 100, method=\"NAIVE_RBF\")\n",
    "print(\"Pred : \",haste.predict(model1, [0.28093573, 0.36177096], method=\"NAIVE_RBF\"))"
   ]
  },
  {
   "cell_type": "code",
   "execution_count": null,
   "metadata": {},
   "outputs": [],
   "source": []
  },
  {
   "cell_type": "code",
   "execution_count": null,
   "metadata": {},
   "outputs": [],
   "source": []
  },
  {
   "cell_type": "code",
   "execution_count": null,
   "metadata": {},
   "outputs": [],
   "source": []
  }
 ],
 "metadata": {
  "kernelspec": {
   "display_name": "Python 3",
   "language": "python",
   "name": "python3"
  },
  "language_info": {
   "codemirror_mode": {
    "name": "ipython",
    "version": 3
   },
   "file_extension": ".py",
   "mimetype": "text/x-python",
   "name": "python",
   "nbconvert_exporter": "python",
   "pygments_lexer": "ipython3",
   "version": "3.7.3"
  }
 },
 "nbformat": 4,
 "nbformat_minor": 1
}
