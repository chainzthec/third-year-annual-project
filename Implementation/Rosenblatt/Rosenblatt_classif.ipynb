{
 "cells": [
  {
   "cell_type": "markdown",
   "metadata": {},
   "source": [
    "# Modèles Linéaires - Classification"
   ]
  },
  {
   "cell_type": "code",
   "execution_count": 1,
   "metadata": {},
   "outputs": [],
   "source": [
    "import CLibrary as CLib\n",
    "import matplotlib.lines as mlines\n",
    "import matplotlib.pyplot as plt\n",
    "import numpy as np\n",
    "import math"
   ]
  },
  {
   "cell_type": "code",
   "execution_count": 2,
   "metadata": {},
   "outputs": [],
   "source": [
    "def get(i, l):\n",
    "    return [z[i] for z in l]"
   ]
  },
  {
   "cell_type": "markdown",
   "metadata": {},
   "source": [
    "### Linear Simple :\n",
    "- <font color='green'>Linear Model : OK</font>\n",
    "- <font color='green'>MLP (2, 1) : OK</font>"
   ]
  },
  {
   "cell_type": "code",
   "execution_count": 3,
   "metadata": {},
   "outputs": [
    {
     "data": {
      "image/png": "[encoded data removed]",
      "text/plain": [
       "<Figure size 432x288 with 1 Axes>"
      ]
     },
     "metadata": {
      "needs_background": "light"
     },
     "output_type": "display_data"
    },
    {
     "data": {
      "text/plain": [
       "<Figure size 432x288 with 0 Axes>"
      ]
     },
     "metadata": {},
     "output_type": "display_data"
    }
   ],
   "source": [
    "X = np.array([\n",
    "      [1, 1],\n",
    "      [2, 3],\n",
    "      [3, 3]\n",
    "])\n",
    "\n",
    "Y = np.array([\n",
    "      1,\n",
    "      -1,\n",
    "      -1\n",
    "])\n",
    "\n",
    "XF = X.flatten().tolist()\n",
    "YF = Y.flatten().tolist()\n",
    "\n",
    "inputCountPerSample = 2\n",
    "mlpClassif_1 = CLib.create_linear_model(inputCountPerSample)\n",
    "\n",
    "mlpClassif_1 = CLib.fit_classification(\n",
    "    mlpClassif_1,\n",
    "    XF, \n",
    "    YF,\n",
    "    0.1,\n",
    "    1000 \n",
    ")\n",
    "\n",
    "XToPredict = [\n",
    "    [i / 100.0, j / 100.0]\n",
    "    for i in range(0, 500) for j in range(0, 500)\n",
    "]\n",
    "YPredicted = [\n",
    "    CLib.predict_classification(mlpClassif_1, x) for x in XToPredict\n",
    "]\n",
    "\n",
    "yellow = []\n",
    "purple = []\n",
    "for i, val in enumerate(YPredicted):\n",
    "    if val >= 0:\n",
    "        purple.append(XToPredict[i])\n",
    "    else:\n",
    "        yellow.append(XToPredict[i])\n",
    "        \n",
    "plt.scatter(\n",
    "    get(0, yellow),\n",
    "    get(1, yellow),\n",
    "    color=\"yellow\"\n",
    ")\n",
    "plt.scatter(\n",
    "    get(0, purple),\n",
    "    get(1, purple),\n",
    "    color=\"violet\"\n",
    ")\n",
    "plt.scatter(\n",
    "    get(0, [x for j, x in enumerate(X) if Y[j] > 0]),\n",
    "    get(1, [x for j, x in enumerate(X) if Y[j] > 0]),\n",
    "    color='red'\n",
    ")\n",
    "plt.scatter(\n",
    "    get(0, [x for j, x in enumerate(X) if Y[j] < 0]),\n",
    "    get(1, [x for j, x in enumerate(X) if Y[j] < 0]),\n",
    "    color='blue'\n",
    ")\n",
    "plt.show()\n",
    "plt.clf()"
   ]
  },
  {
   "cell_type": "markdown",
   "metadata": {},
   "source": [
    "### Linear Multiple :\n",
    "- <font color='green'>Linear Model : OK</font>\n",
    "- <font color='green'>MLP (2, 1) : OK</font>"
   ]
  },
  {
   "cell_type": "code",
   "execution_count": 5,
   "metadata": {},
   "outputs": [
    {
     "data": {
      "image/png": "[encoded data removed]",
      "text/plain": [
       "<Figure size 432x288 with 1 Axes>"
      ]
     },
     "metadata": {
      "needs_background": "light"
     },
     "output_type": "display_data"
    },
    {
     "data": {
      "text/plain": [
       "<Figure size 432x288 with 0 Axes>"
      ]
     },
     "metadata": {},
     "output_type": "display_data"
    }
   ],
   "source": [
    "X = np.concatenate([np.random.random((50, 2)) * 0.9 + np.array([1, 1]), np.random.random((50,2)) * 0.9 + np.array([2, 2])])\n",
    "Y = np.concatenate([np.ones((50, 1)), np.ones((50, 1)) * -1.0])\n",
    "\n",
    "XF = X.flatten().tolist()\n",
    "YF = Y.flatten().tolist()\n",
    "\n",
    "inputCountPerSample = 2\n",
    "mlpClassif_1 = CLib.create_linear_model(inputCountPerSample)\n",
    "\n",
    "mlpClassif_1 = CLib.fit_classification(\n",
    "    mlpClassif_1,\n",
    "    XF, \n",
    "    YF,\n",
    "    0.01,\n",
    "    10000 \n",
    ")\n",
    "\n",
    "XToPredict = [\n",
    "    [i / 100.0, j / 100.0]\n",
    "    for i in range(50, 300) for j in range(50, 300)\n",
    "]\n",
    "YPredicted = [\n",
    "    CLib.predict_classification(mlpClassif_1, x) for x in XToPredict\n",
    "]\n",
    "\n",
    "yellow = []\n",
    "purple = []\n",
    "for i, val in enumerate(YPredicted):\n",
    "    if val >= 0:\n",
    "        purple.append(XToPredict[i])\n",
    "    else:\n",
    "        yellow.append(XToPredict[i])\n",
    "        \n",
    "plt.scatter(\n",
    "    get(0, yellow),\n",
    "    get(1, yellow),\n",
    "    color=\"yellow\"\n",
    ")\n",
    "plt.scatter(\n",
    "    get(0, purple),\n",
    "    get(1, purple),\n",
    "    color=\"violet\"\n",
    ")\n",
    "plt.scatter(\n",
    "    get(0, [x for j, x in enumerate(X) if Y[j] > 0]),\n",
    "    get(1, [x for j, x in enumerate(X) if Y[j] > 0]),\n",
    "    color='red'\n",
    ")\n",
    "plt.scatter(\n",
    "    get(0, [x for j, x in enumerate(X) if Y[j] < 0]),\n",
    "    get(1, [x for j, x in enumerate(X) if Y[j] < 0]),\n",
    "    color='blue'\n",
    ")\n",
    "plt.show()\n",
    "plt.clf()"
   ]
  },
  {
   "cell_type": "markdown",
   "metadata": {},
   "source": [
    "### XOR :\n",
    "- <font color='red'>Linear Model : KO</font>\n",
    "- <font color='green'>MLP (2, 2, 1) : OK</font>"
   ]
  },
  {
   "cell_type": "code",
   "execution_count": 6,
   "metadata": {},
   "outputs": [
    {
     "data": {
      "image/png": "[encoded data removed]",
      "text/plain": [
       "<Figure size 432x288 with 1 Axes>"
      ]
     },
     "metadata": {
      "needs_background": "light"
     },
     "output_type": "display_data"
    },
    {
     "data": {
      "text/plain": [
       "<Figure size 432x288 with 0 Axes>"
      ]
     },
     "metadata": {},
     "output_type": "display_data"
    }
   ],
   "source": [
    "X = np.array([[0, 0], [1, 0], [0, 1], [1, 1]])\n",
    "Y = np.array([1, -1, -1, 1])\n",
    "\n",
    "XF = X.flatten().tolist()\n",
    "YF = Y.flatten().tolist()\n",
    "\n",
    "inputCountPerSample = 2\n",
    "mlpClassif_2 = CLib.create_linear_model(inputCountPerSample)\n",
    "\n",
    "mlpClassif_2 = CLib.fit_classification(\n",
    "    mlpClassif_2,\n",
    "    XF, \n",
    "    YF,\n",
    "    0.01,\n",
    "    50000 \n",
    ")\n",
    "\n",
    "XToPredict = [\n",
    "    [i / 100.0, j / 100.0]\n",
    "    for i in range(0, 100) for j in range(0, 100)\n",
    "]\n",
    "YPredicted = [\n",
    "    CLib.predict_classification(mlpClassif_2, x) for x in XToPredict\n",
    "]\n",
    "\n",
    "yellow = []\n",
    "purple = []\n",
    "for i, val in enumerate(YPredicted):\n",
    "    if val >= 0:\n",
    "        purple.append(XToPredict[i])\n",
    "    else:\n",
    "        yellow.append(XToPredict[i])\n",
    "        \n",
    "plt.scatter(\n",
    "    get(0, yellow),\n",
    "    get(1, yellow),\n",
    "    color=\"yellow\"\n",
    ")\n",
    "plt.scatter(\n",
    "    get(0, purple),\n",
    "    get(1, purple),\n",
    "    color=\"violet\"\n",
    ")\n",
    "plt.scatter(\n",
    "    get(0, [x for j, x in enumerate(X) if Y[j] > 0]),\n",
    "    get(1, [x for j, x in enumerate(X) if Y[j] > 0]),\n",
    "    color='red'\n",
    ")\n",
    "plt.scatter(\n",
    "    get(0, [x for j, x in enumerate(X) if Y[j] < 0]),\n",
    "    get(1, [x for j, x in enumerate(X) if Y[j] < 0]),\n",
    "    color='blue'\n",
    ")\n",
    "plt.show()\n",
    "plt.clf()"
   ]
  },
  {
   "cell_type": "markdown",
   "metadata": {},
   "source": [
    "### Cross :\n",
    "- <font color='red'>Linear Model : KO</font>\n",
    "- <font color='green'>MLP (2, 4, 1) : OK</font>"
   ]
  },
  {
   "cell_type": "code",
   "execution_count": null,
   "metadata": {},
   "outputs": [],
   "source": [
    "X = np.random.random((500, 2)) * 2.0 - 1.0\n",
    "Y = np.array([1 if abs(p[0]) <= 0.3 or abs(p[1]) <= 0.3 else -1 for p in X])\n",
    "\n",
    "XF = X.flatten().tolist()\n",
    "YF = Y.flatten().tolist()\n",
    "\n",
    "inputCountPerSample = 2\n",
    "mlpClassif_3 = CLib.create_linear_model(inputCountPerSample)\n",
    "\n",
    "mlpClassif_3 = CLib.fit_classification(mlpClassif_3, XF, YF, 0.1, 1000)\n",
    "\n",
    "XToPredict = [\n",
    "    [i / 100.0, j / 100.0]\n",
    "    for i in range(-100, 100) for j in range(-100, 100)\n",
    "]\n",
    "YPredicted = [\n",
    "    CLib.predict_classification(mlpClassif_3, x) for x in XToPredict\n",
    "]\n",
    "\n",
    "yellow = []\n",
    "purple = []\n",
    "for i, val in enumerate(YPredicted):\n",
    "    if val >= 0:\n",
    "        purple.append(XToPredict[i])\n",
    "    else:\n",
    "        yellow.append(XToPredict[i])\n",
    "        \n",
    "plt.scatter(\n",
    "    get(0, yellow),\n",
    "    get(1, yellow),\n",
    "    color=\"yellow\"\n",
    ")\n",
    "plt.scatter(\n",
    "    get(0, purple),\n",
    "    get(1, purple),\n",
    "    color=\"violet\"\n",
    ")\n",
    "plt.scatter(\n",
    "    get(0, [x for j, x in enumerate(X) if Y[j] < 0]),\n",
    "    get(1, [x for j, x in enumerate(X) if Y[j] < 0]),\n",
    "    color='red'\n",
    ")\n",
    "plt.scatter(\n",
    "    get(0, [x for j, x in enumerate(X) if Y[j] > 0]),\n",
    "    get(1, [x for j, x in enumerate(X) if Y[j] > 0]),\n",
    "    color='blue'\n",
    ")\n",
    "plt.show()\n",
    "plt.clf()"
   ]
  },
  {
   "cell_type": "markdown",
   "metadata": {},
   "source": [
    "## Multi Class"
   ]
  },
  {
   "cell_type": "markdown",
   "metadata": {},
   "source": [
    "### Linear Multiple :\n",
    "- <font color='green'>Linear Model : OK</font>\n",
    "- <font color='green'>MLP (2, 3) : OK</font>"
   ]
  },
  {
   "cell_type": "code",
   "execution_count": 10,
   "metadata": {},
   "outputs": [],
   "source": [
    "X = np.random.random((500, 2)) * 2.0 - 1.0\n",
    "Y = np.array([[1, -1, -1] if -p[0] - p[1] - 0.5 > 0 and p[1] < 0 and p[0] - p[1] - 0.5 < 0 else \n",
    "              [-1, 1, -1] if -p[0] - p[1] - 0.5 < 0 and p[1] > 0 and p[0] - p[1] - 0.5 < 0 else \n",
    "              [-1, -1, 1] if -p[0] - p[1] - 0.5 < 0 and p[1] < 0 and p[0] - p[1] - 0.5 > 0 else \n",
    "              [-1, -1, -1] for p in X])\n",
    "\n",
    "def draw(model, X, Y):\n",
    "    X = X.tolist()\n",
    "    Y = Y.tolist()\n",
    "    \n",
    "    XToPredict = [\n",
    "        [i / 100.0, j / 100.0]\n",
    "        for i in range(-150, 150) for j in range(-150, 150)\n",
    "    ]\n",
    "    YPredicted = [\n",
    "        CLib.predict_classification(model, x) for x in XToPredict\n",
    "    ]\n",
    "\n",
    "    XToPlotUnHappy = []\n",
    "    XToPlotHappy = []\n",
    "    for i, val in enumerate(YPredicted):\n",
    "        #print(val, '-')\n",
    "        if val >= 0:\n",
    "            XToPlotHappy.append(XToPredict[i])\n",
    "        else:\n",
    "            XToPlotUnHappy.append(XToPredict[i])\n",
    "\n",
    "    plt.scatter(\n",
    "        get(0, XToPlotUnHappy),\n",
    "        get(1, XToPlotUnHappy),\n",
    "        color=\"yellow\"\n",
    "    )\n",
    "    plt.scatter(\n",
    "        get(0, XToPlotHappy),\n",
    "        get(1, XToPlotHappy),\n",
    "        color=\"violet\"\n",
    "    )\n",
    "    plt.scatter(\n",
    "        get(0, [x for j, x in enumerate(X) if Y[j] == [1, -1, -1]]),\n",
    "        get(1, [x for j, x in enumerate(X) if Y[j] == [1, -1, -1]]),\n",
    "        color='red'\n",
    "    )\n",
    "    plt.scatter(\n",
    "        get(0, [x for j, x in enumerate(X) if Y[j] == [-1, 1, -1]]),\n",
    "        get(1, [x for j, x in enumerate(X) if Y[j] == [-1, 1, -1]]),\n",
    "        color='green'\n",
    "    )\n",
    "    plt.scatter(\n",
    "        get(0, [x for j, x in enumerate(X) if Y[j] == [-1, -1, 1]]),\n",
    "        get(1, [x for j, x in enumerate(X) if Y[j] == [-1, -1, 1]]),\n",
    "        color='blue'\n",
    "    )\n",
    "    plt.show()\n",
    "    plt.clf()"
   ]
  },
  {
   "cell_type": "code",
   "execution_count": 11,
   "metadata": {},
   "outputs": [
    {
     "data": {
      "image/png": "[encoded data removed]",
      "text/plain": [
       "<Figure size 432x288 with 1 Axes>"
      ]
     },
     "metadata": {
      "needs_background": "light"
     },
     "output_type": "display_data"
    },
    {
     "data": {
      "image/png": "[encoded data removed]",
      "text/plain": [
       "<Figure size 432x288 with 1 Axes>"
      ]
     },
     "metadata": {
      "needs_background": "light"
     },
     "output_type": "display_data"
    },
    {
     "data": {
      "image/png": "[encoded data removed]",
      "text/plain": [
       "<Figure size 432x288 with 1 Axes>"
      ]
     },
     "metadata": {
      "needs_background": "light"
     },
     "output_type": "display_data"
    },
    {
     "data": {
      "text/plain": [
       "<Figure size 432x288 with 0 Axes>"
      ]
     },
     "metadata": {},
     "output_type": "display_data"
    }
   ],
   "source": [
    "inputCountPerSample = 2\n",
    "mlpClassif_4a = CLib.create_linear_model(inputCountPerSample)\n",
    "mlpClassif_4b = CLib.create_linear_model(inputCountPerSample)\n",
    "mlpClassif_4c = CLib.create_linear_model(inputCountPerSample)\n",
    "\n",
    "mlpClassif_4a = CLib.fit_classification(mlpClassif_4a, XF, YF, 0.01, 1000, inputCountPerSample)\n",
    "mlpClassif_4b = CLib.fit_classification(mlpClassif_4b, XF, YF, 0.01, 1000, inputCountPerSample)\n",
    "mlpClassif_4c = CLib.fit_classification(mlpClassif_4c, XF, YF, 0.01, 1000, inputCountPerSample)\n",
    "\n",
    "draw(mlpClassif_4a, X, Y)\n",
    "draw(mlpClassif_4b, X, Y)\n",
    "draw(mlpClassif_4c, X, Y)"
   ]
  },
  {
   "cell_type": "markdown",
   "metadata": {},
   "source": [
    "### Multi Cross :\n",
    "- <font color='red'>Linear Model x3 : KO</font>\n",
    "- <font color='green'>MLP (2, ?, ?, 1) : OK</font>"
   ]
  },
  {
   "cell_type": "code",
   "execution_count": 12,
   "metadata": {},
   "outputs": [
    {
     "data": {
      "image/png": "[encoded data removed]",
      "text/plain": [
       "<Figure size 432x288 with 1 Axes>"
      ]
     },
     "metadata": {
      "needs_background": "light"
     },
     "output_type": "display_data"
    },
    {
     "data": {
      "text/plain": [
       "<Figure size 432x288 with 0 Axes>"
      ]
     },
     "metadata": {},
     "output_type": "display_data"
    }
   ],
   "source": [
    "X = np.random.random((1000, 2)) * 2.0 - 1.0\n",
    "Y = np.array([[1, -1, -1] if abs(p[0] % 0.5) <= 0.25 and abs(p[1] % 0.5) > 0.25 else \n",
    "              [-1, 1, -1] if abs(p[0] % 0.5) > 0.25 and abs(p[1] % 0.5) <= 0.25 else \n",
    "              [-1, -1, 1] for p in X])\n",
    "\n",
    "XF = X.flatten().tolist()\n",
    "YF = Y.flatten().tolist()\n",
    "\n",
    "inputCountPerSample = 2\n",
    "mlpClassif_5 = CLib.create_linear_model(inputCountPerSample)\n",
    "\n",
    "mlpClassif_5 = CLib.fit_classification(mlpClassif_5, XF, YF, 0.1, 1000, inputCountPerSample)\n",
    "\n",
    "XToPredict = [\n",
    "    [i / 100.0, j / 100.0]\n",
    "    for i in range(-100, 100) for j in range(-100, 100)\n",
    "]\n",
    "YPredicted = [\n",
    "    CLib.predict_classification(mlpClassif_5, x) for x in XToPredict\n",
    "]\n",
    "\n",
    "yellow = []\n",
    "purple = []\n",
    "brown = []\n",
    "\n",
    "for i, val in enumerate(YPredicted):\n",
    "        if val == [1, -1, -1]:\n",
    "            yellow.append(XToPredict[i])\n",
    "        elif val == [-1, 1, -1]:\n",
    "            purple.append(XToPredict[i])\n",
    "        elif val == [-1, -1, 1]:\n",
    "            brown.append(XToPredict[i])\n",
    "        \n",
    "plt.scatter(\n",
    "    get(0, yellow),\n",
    "    get(1, yellow),\n",
    "    color=\"yellow\"\n",
    ")\n",
    "plt.scatter(\n",
    "    get(0, brown),\n",
    "    get(1, brown),\n",
    "    color=\"brown\"\n",
    ")\n",
    "plt.scatter(\n",
    "    get(0, purple),\n",
    "    get(1, purple),\n",
    "    color=\"purple\"\n",
    ")\n",
    "plt.scatter(\n",
    "    get(0, [x for j, x in enumerate(X) if (Y[j] == [1, -1, -1]).all() ]),\n",
    "    get(1, [x for j, x in enumerate(X) if (Y[j] == [1, -1, -1]).all() ]),\n",
    "    color='red'\n",
    ")\n",
    "plt.scatter(\n",
    "    get(0, [x for j, x in enumerate(X) if (Y[j] == [-1, 1, -1]).all() ]),\n",
    "    get(1, [x for j, x in enumerate(X) if (Y[j] == [-1, 1, -1]).all() ]),\n",
    "    color='blue'\n",
    ")\n",
    "plt.scatter(\n",
    "    get(0, [x for j, x in enumerate(X) if (Y[j] == [-1, -1, 1]).all() ]),\n",
    "    get(1, [x for j, x in enumerate(X) if (Y[j] == [-1, -1, 1]).all() ]),\n",
    "    color='green'\n",
    ")\n",
    "plt.show()\n",
    "plt.clf()\n"
   ]
  },
  {
   "cell_type": "code",
   "execution_count": null,
   "metadata": {},
   "outputs": [],
   "source": []
  },
  {
   "cell_type": "code",
   "execution_count": null,
   "metadata": {},
   "outputs": [],
   "source": []
  }
 ],
 "metadata": {
  "kernelspec": {
   "display_name": "Python 3",
   "language": "python",
   "name": "python3"
  },
  "language_info": {
   "codemirror_mode": {
    "name": "ipython",
    "version": 3
   },
   "file_extension": ".py",
   "mimetype": "text/x-python",
   "name": "python",
   "nbconvert_exporter": "python",
   "pygments_lexer": "ipython3",
   "version": "3.6.8"
  },
  "widgets": {
   "application/vnd.jupyter.widget-state+json": {
    "state": {},
    "version_major": 2,
    "version_minor": 0
   }
  }
 },
 "nbformat": 4,
 "nbformat_minor": 2
}
