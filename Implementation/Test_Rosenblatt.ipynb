{
 "cells": [
  {
   "cell_type": "markdown",
   "metadata": {},
   "source": [
    "# Modèles Linéaires"
   ]
  },
  {
   "cell_type": "code",
   "execution_count": 1,
   "metadata": {},
   "outputs": [],
   "source": [
    "import CLibrary as CLib\n",
    "import matplotlib.lines as mlines\n",
    "import matplotlib.pyplot as plt\n",
    "import numpy as np\n",
    "import math"
   ]
  },
  {
   "cell_type": "code",
   "execution_count": 2,
   "metadata": {},
   "outputs": [],
   "source": [
    "    X = [\n",
    "        0, 0,\n",
    "        1, 2,\n",
    "        1, 0,\n",
    "        0, 1,\n",
    "        2, 2,\n",
    "        2, 1,\n",
    "        0.25, 0.25,\n",
    "        0.1, 0.1,\n",
    "        0.15, 0.15,\n",
    "        0.3, 0.3,\n",
    "        3, 3,\n",
    "        1.5, 1.5,\n",
    "        2.5, 2.5\n",
    "    ]\n",
    "\n",
    "    Y = [-1, 1, 1, 1, 1, 1, -1, -1, -1, -1, 1, 1, 1]\n",
    "\n",
    "    inputCountPerSample = int(len(X) / len(Y))    "
   ]
  },
  {
   "cell_type": "markdown",
   "metadata": {},
   "source": [
    "### Classification (Rosenblatt)"
   ]
  },
  {
   "cell_type": "code",
   "execution_count": 3,
   "metadata": {
    "scrolled": true
   },
   "outputs": [
    {
     "name": "stdout",
     "output_type": "stream",
     "text": [
      "- Prediction des points [0.25, 0.25]  :  (-1) -> (-1)\n",
      "- Prediction des points [2.5, 2.5]  :  (1) -> (1)\n",
      "- Prediction des points [1, 2]  :  (1) -> (1)\n",
      "- Prediction des points [0.3, 0.3]  :  (-1) -> (-1)\n",
      "- Prediction des points [3, 3]  :  (1) -> (1)\n"
     ]
    }
   ],
   "source": [
    "modelClassif = CLib.create_linear_model(inputCountPerSample)\n",
    "trainedModelClassif = CLib.fit_classification(modelClassif, X, Y, 0.001, 5000)\n",
    "\n",
    "CLib.launchClassificationText(trainedModelClassif, [0.25, 0.25], -1)\n",
    "CLib.launchClassificationText(trainedModelClassif, [2.5, 2.5], 1)\n",
    "CLib.launchClassificationText(trainedModelClassif, [1, 2], 1)\n",
    "CLib.launchClassificationText(trainedModelClassif, [0.3, 0.3], -1)\n",
    "CLib.launchClassificationText(trainedModelClassif, [3, 3], 1)"
   ]
  },
  {
   "cell_type": "markdown",
   "metadata": {},
   "source": [
    "### Regression"
   ]
  },
  {
   "cell_type": "code",
   "execution_count": 4,
   "metadata": {
    "scrolled": true
   },
   "outputs": [
    {
     "name": "stdout",
     "output_type": "stream",
     "text": [
      "- Prediction des points [0, 0]  :  (-1) -> (-1)\n",
      "- Prediction des points [2.5, 2.5]  :  (1) -> (1)\n",
      "- Prediction des points [1.5, 1.5]  :  (1) -> (1)\n",
      "- Prediction des points [0.3, 0.3]  :  (-1) -> (-1)\n",
      "- Prediction des points [3, 3]  :  (1) -> (1)\n"
     ]
    }
   ],
   "source": [
    "modelReg = CLib.create_linear_model(inputCountPerSample)\n",
    "trainedModelReg = CLib.fit_regression(modelReg, X, Y)\n",
    "\n",
    "CLib.launchRegressionText(trainedModelReg, [0, 0], -1)\n",
    "CLib.launchRegressionText(trainedModelReg, [2.5, 2.5], 1)\n",
    "CLib.launchRegressionText(trainedModelReg, [1.5, 1.5], 1)\n",
    "CLib.launchRegressionText(trainedModelReg, [0.3, 0.3], -1)\n",
    "CLib.launchRegressionText(trainedModelReg, [3, 3], 1)"
   ]
  },
  {
   "cell_type": "markdown",
   "metadata": {},
   "source": [
    "### Affichage"
   ]
  },
  {
   "cell_type": "code",
   "execution_count": 5,
   "metadata": {},
   "outputs": [],
   "source": [
    "def draw_2d(model, X, Y, name):\n",
    "    max_x = math.ceil(max(x[0] for x in X))\n",
    "    max_y = math.ceil(max(x[1] for x in X))\n",
    "    \n",
    "    min_x = math.floor(min(x[0] for x in X))\n",
    "    min_y = math.floor(min(x[1] for x in X))    \n",
    "\n",
    "    # DISPLAY\n",
    "    XToPredict = [\n",
    "        [i / 100.0, j / 100.0]\n",
    "        for i in range(min_x * 100, max_x * 100) for j in range(min_y * 100, max_y * 100)\n",
    "    ]\n",
    "    \n",
    "    \n",
    "    YPredicted = [\n",
    "        getattr(CLib, name)(model, x) for x in XToPredict\n",
    "    ]\n",
    "\n",
    "    XToPlotUnHappy = []\n",
    "    XToPlotHappy = []\n",
    "    for i, val in enumerate(YPredicted):\n",
    "        if val >= 0:\n",
    "            XToPlotHappy.append(XToPredict[i])\n",
    "        else:\n",
    "            XToPlotUnHappy.append(XToPredict[i])\n",
    "\n",
    "    def get(i, l):\n",
    "        return [z[i] for z in l]\n",
    "\n",
    "    plt.scatter(\n",
    "        get(0, XToPlotUnHappy),\n",
    "        get(1, XToPlotUnHappy),\n",
    "        color=\"yellow\"\n",
    "    )\n",
    "    plt.scatter(\n",
    "        get(0, XToPlotHappy),\n",
    "        get(1, XToPlotHappy),\n",
    "        color=\"violet\"\n",
    "    )\n",
    "    plt.scatter(\n",
    "        get(0, [x for j, x in enumerate(X) if Y[j] == -1]),\n",
    "        get(1, [x for j, x in enumerate(X) if Y[j] == -1]),\n",
    "        color='red'\n",
    "    )\n",
    "    plt.scatter(\n",
    "        get(0, [x for j, x in enumerate(X) if Y[j] != -1]),\n",
    "        get(1, [x for j, x in enumerate(X) if Y[j] != -1]),\n",
    "        color='blue'\n",
    "    )\n",
    "    plt.show()\n",
    "    plt.clf()"
   ]
  },
  {
   "cell_type": "markdown",
   "metadata": {},
   "source": [
    "#### Affichage Classification"
   ]
  },
  {
   "cell_type": "code",
   "execution_count": 8,
   "metadata": {},
   "outputs": [
    {
     "data": {
      "image/png": "[encoded data removed]",
      "text/plain": [
       "<Figure size 432x288 with 1 Axes>"
      ]
     },
     "metadata": {
      "needs_background": "light"
     },
     "output_type": "display_data"
    },
    {
     "data": {
      "text/plain": [
       "<Figure size 432x288 with 0 Axes>"
      ]
     },
     "metadata": {},
     "output_type": "display_data"
    }
   ],
   "source": [
    "X = np.concatenate([np.random.random((50, 2)) * 0.9 + np.array([1, 1]), np.random.random((50,2)) * 0.9 + np.array([2, 2])])\n",
    "Y = np.concatenate([np.ones((50, 1)), np.ones((50, 1)) * -1.0]).flatten()\n",
    "\n",
    "XF = X.flatten().tolist()\n",
    "YF = Y.tolist()\n",
    "\n",
    "trainedModelClassif = CLib.fit_classification(\n",
    "    modelClassif, \n",
    "    XF, \n",
    "    YF, \n",
    "    0.001, \n",
    "    5000\n",
    ")\n",
    "\n",
    "draw_2d(trainedModelClassif, X, Y, 'predict_classification')"
   ]
  },
  {
   "cell_type": "markdown",
   "metadata": {},
   "source": [
    "#### Affichage Regression"
   ]
  },
  {
   "cell_type": "code",
   "execution_count": 10,
   "metadata": {
    "scrolled": true
   },
   "outputs": [
    {
     "data": {
      "image/png": "[encoded data removed]",
      "text/plain": [
       "<Figure size 432x288 with 1 Axes>"
      ]
     },
     "metadata": {
      "needs_background": "light"
     },
     "output_type": "display_data"
    },
    {
     "data": {
      "text/plain": [
       "<Figure size 432x288 with 0 Axes>"
      ]
     },
     "metadata": {},
     "output_type": "display_data"
    }
   ],
   "source": [
    "X = np.concatenate([np.random.random((50, 2)) * 0.9 + np.array([1, 1]), np.random.random((50,2)) * 0.9 + np.array([2, 2])])\n",
    "Y = np.concatenate([np.ones((50, 1)), np.ones((50, 1)) * -1.0]).flatten()\n",
    "\n",
    "XF = X.flatten().tolist()\n",
    "YF = Y.tolist()\n",
    "\n",
    "trainedModelReg = CLib.fit_regression(\n",
    "    modelReg, \n",
    "    XF, \n",
    "    YF\n",
    ")\n",
    "\n",
    "draw_2d(trainedModelReg, X, Y, 'predict_regression')"
   ]
  },
  {
   "cell_type": "code",
   "execution_count": null,
   "metadata": {},
   "outputs": [],
   "source": []
  }
 ],
 "metadata": {
  "kernelspec": {
   "display_name": "Python 3",
   "language": "python",
   "name": "python3"
  },
  "language_info": {
   "codemirror_mode": {
    "name": "ipython",
    "version": 3
   },
   "file_extension": ".py",
   "mimetype": "text/x-python",
   "name": "python",
   "nbconvert_exporter": "python",
   "pygments_lexer": "ipython3",
   "version": "3.6.8"
  },
  "widgets": {
   "application/vnd.jupyter.widget-state+json": {
    "state": {},
    "version_major": 2,
    "version_minor": 0
   }
  }
 },
 "nbformat": 4,
 "nbformat_minor": 2
}
