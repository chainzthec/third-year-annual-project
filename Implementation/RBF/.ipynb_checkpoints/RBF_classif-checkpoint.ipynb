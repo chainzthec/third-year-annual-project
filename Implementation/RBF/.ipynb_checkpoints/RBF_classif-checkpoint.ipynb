{
 "cells": [
  {
   "cell_type": "code",
   "execution_count": 1,
   "metadata": {},
   "outputs": [],
   "source": [
    "import CLibrary as CLib\n",
    "import matplotlib.lines as mlines\n",
    "import matplotlib.pyplot as plt\n",
    "import numpy as np\n",
    "import math"
   ]
  },
  {
   "cell_type": "code",
   "execution_count": 2,
   "metadata": {},
   "outputs": [
    {
     "name": "stdout",
     "output_type": "stream",
     "text": [
      "[0.489142573209006, 0.6479630976819627, 0.9220134698624604, 0.44561061718069417, 0.24304428770498854, 0.34131125760145187, 0.8686648886340136, 0.8431357240125347]\n",
      "[0.6605261401101881, 0.577245320110901, 0.7359005926684397, 0.2534083367146135]\n"
     ]
    }
   ],
   "source": [
    "X = list(np.random.rand(4,2).flatten())\n",
    "Y = list(np.random.rand(4,1).flatten())\n",
    "\n",
    "print(X)\n",
    "print(Y)"
   ]
  },
  {
   "cell_type": "code",
   "execution_count": 4,
   "metadata": {},
   "outputs": [
    {
     "name": "stdout",
     "output_type": "stream",
     "text": [
      "0.6605261401101882\n"
     ]
    }
   ],
   "source": [
    "inputCountPerSample = 4\n",
    "sampleCount = 2\n",
    "model = CLib.naive_rbf_train(X, Y, inputCountPerSample, sampleCount, 100)\n",
    "print(CLib.naive_rbf_regression_predict(model, X[:2]))"
   ]
  },
  {
   "cell_type": "markdown",
   "metadata": {},
   "source": [
    "# Predict simple classification"
   ]
  },
  {
   "cell_type": "markdown",
   "metadata": {},
   "source": [
    "## High Gamma"
   ]
  },
  {
   "cell_type": "code",
   "execution_count": 85,
   "metadata": {},
   "outputs": [],
   "source": [
    "X = np.array([\n",
    "    [0,0],\n",
    "    [1,1],\n",
    "    [1,0],\n",
    "    [0,1],\n",
    "    [0.5,0.5]\n",
    "])\n",
    "Y = np.array([-1,-1,-1,-1,1])\n",
    "gamma = 100\n",
    "inputCountPerSample = 5\n",
    "sampleCount = 2"
   ]
  },
  {
   "cell_type": "code",
   "execution_count": 86,
   "metadata": {},
   "outputs": [],
   "source": [
    "rbfModel = CLib.naive_rbf_train(X.flatten(),Y.flatten(),inputCountPerSample,sampleCount,gamma)"
   ]
  },
  {
   "cell_type": "code",
   "execution_count": 87,
   "metadata": {},
   "outputs": [],
   "source": [
    "XToPredict = [[i / 100.0, j / 100.0] for i in range(0,100) for j in range(0, 100)]\n",
    "predict_array = []\n",
    "count = 0\n",
    "for r in XToPredict:\n",
    "    res = CLib.naive_rbf_classification_predict(rbfModel, XToPredict[count])\n",
    "    predict_array.append(res)\n",
    "    count += 1"
   ]
  },
  {
   "cell_type": "code",
   "execution_count": 88,
   "metadata": {},
   "outputs": [],
   "source": [
    "XToPlotRed = []\n",
    "XToPlotBlue = []\n",
    "for i in range(len(predict_array)):\n",
    "    if predict_array[i] <= 0:\n",
    "        XToPlotRed.append(XToPredict[i])\n",
    "    else:\n",
    "        XToPlotBlue.append(XToPredict[i])\n",
    "XToPlotRed = np.array(XToPlotRed)\n",
    "XToPlotBlue = np.array(XToPlotBlue)"
   ]
  },
  {
   "cell_type": "code",
   "execution_count": 89,
   "metadata": {},
   "outputs": [
    {
     "data": {
      "image/png": "[encoded data removed]",
      "text/plain": [
       "<Figure size 432x288 with 1 Axes>"
      ]
     },
     "metadata": {
      "needs_background": "light"
     },
     "output_type": "display_data"
    },
    {
     "data": {
      "text/plain": [
       "<Figure size 432x288 with 0 Axes>"
      ]
     },
     "metadata": {},
     "output_type": "display_data"
    }
   ],
   "source": [
    "plt.scatter(XToPlotBlue[:,0],XToPlotBlue[:,1], color='lightblue')\n",
    "plt.scatter(XToPlotRed[:,0],XToPlotRed[:,1], color='tomato')\n",
    "plt.scatter(X[4, 1], X[4, 1], color='blue')\n",
    "plt.scatter(X[0:4,0], X[0:4,1], color='red')\n",
    "plt.show()\n",
    "plt.clf()"
   ]
  },
  {
   "cell_type": "markdown",
   "metadata": {},
   "source": [
    "## Low gamma"
   ]
  },
  {
   "cell_type": "code",
   "execution_count": 105,
   "metadata": {},
   "outputs": [],
   "source": [
    "X = np.array([\n",
    "    [0,0],\n",
    "    [1,1],\n",
    "    [1,0],\n",
    "    [0,1],\n",
    "    [0.5,0.5]\n",
    "])\n",
    "Y = np.array([-1,-1,-1,-1,1])\n",
    "gamma = 1\n",
    "inputCountPerSample = 5\n",
    "sampleCount = 2"
   ]
  },
  {
   "cell_type": "code",
   "execution_count": 106,
   "metadata": {},
   "outputs": [],
   "source": [
    "rbfModel = CLib.naive_rbf_train(X.flatten(),Y.flatten(),inputCountPerSample,sampleCount,gamma)"
   ]
  },
  {
   "cell_type": "code",
   "execution_count": 107,
   "metadata": {},
   "outputs": [],
   "source": [
    "XToPredict = [[i / 100.0, j / 100.0] for i in range(0,100) for j in range(0, 100)]\n",
    "predict_array = []\n",
    "count = 0\n",
    "for r in XToPredict:\n",
    "    res = CLib.naive_rbf_classification_predict(rbfModel, XToPredict[count])\n",
    "    predict_array.append(res)\n",
    "    count += 1"
   ]
  },
  {
   "cell_type": "code",
   "execution_count": 108,
   "metadata": {},
   "outputs": [],
   "source": [
    "XToPlotRed = []\n",
    "XToPlotBlue = []\n",
    "for i in range(len(predict_array)):\n",
    "    if predict_array[i] <= 0:\n",
    "        XToPlotRed.append(XToPredict[i])\n",
    "    else:\n",
    "        XToPlotBlue.append(XToPredict[i])\n",
    "XToPlotRed = np.array(XToPlotRed)\n",
    "XToPlotBlue = np.array(XToPlotBlue)"
   ]
  },
  {
   "cell_type": "code",
   "execution_count": 109,
   "metadata": {},
   "outputs": [
    {
     "data": {
      "image/png": "[encoded data removed]",
      "text/plain": [
       "<Figure size 432x288 with 1 Axes>"
      ]
     },
     "metadata": {
      "needs_background": "light"
     },
     "output_type": "display_data"
    },
    {
     "data": {
      "text/plain": [
       "<Figure size 432x288 with 0 Axes>"
      ]
     },
     "metadata": {},
     "output_type": "display_data"
    }
   ],
   "source": [
    "plt.scatter(XToPlotBlue[:,0],XToPlotBlue[:,1], color='lightblue')\n",
    "plt.scatter(XToPlotRed[:,0],XToPlotRed[:,1], color='tomato')\n",
    "plt.scatter(X[4, 1], X[4, 1], color='blue')\n",
    "plt.scatter(X[0:4,0], X[0:4,1], color='red')\n",
    "plt.show()\n",
    "plt.clf()"
   ]
  },
  {
   "cell_type": "markdown",
   "metadata": {},
   "source": [
    "# Linear Multiple"
   ]
  },
  {
   "cell_type": "markdown",
   "metadata": {},
   "source": [
    "## High gamma"
   ]
  },
  {
   "cell_type": "code",
   "execution_count": 22,
   "metadata": {},
   "outputs": [
    {
     "data": {
      "image/png": "[encoded data removed]",
      "text/plain": [
       "<Figure size 432x288 with 1 Axes>"
      ]
     },
     "metadata": {
      "needs_background": "light"
     },
     "output_type": "display_data"
    },
    {
     "data": {
      "text/plain": [
       "<Figure size 432x288 with 0 Axes>"
      ]
     },
     "metadata": {},
     "output_type": "display_data"
    }
   ],
   "source": [
    "X = np.concatenate([np.random.random((50, 2)) * 0.9 + np.array([1, 1]), np.random.random((50,2)) * 0.9 + np.array([2, 2])])\n",
    "Y = np.concatenate([np.ones((50, 1)), np.ones((50, 1)) * -1.0])\n",
    "\n",
    "inputCountPerSample = 100\n",
    "sampleCount = 2\n",
    "gamma = 900\n",
    "\n",
    "rbfModel = CLib.naive_rbf_train(X.flatten(),Y.flatten(),inputCountPerSample,sampleCount,gamma)\n",
    "\n",
    "XToPredict = [[i / 100.0, j / 100.0]for i in range(0, 300) for j in range(0, 300)]\n",
    "YPredicted = [CLib.naive_rbf_classification_predict(rbfModel, x) for x in XToPredict]\n",
    "\n",
    "def get(i, l):\n",
    "    return [z[i] for z in l]\n",
    "\n",
    "yellow = []\n",
    "purple = []\n",
    "\n",
    "for i, val in enumerate(YPredicted):\n",
    "    if YPredicted[i] >= 0:\n",
    "        purple.append(XToPredict[i])\n",
    "    else:\n",
    "        yellow.append(XToPredict[i])\n",
    "        \n",
    "plt.scatter(\n",
    "    get(0, yellow),\n",
    "    get(1, yellow),\n",
    "    color=\"lightblue\"\n",
    ")\n",
    "plt.scatter(\n",
    "    get(0, purple),\n",
    "    get(1, purple),\n",
    "    color=\"tomato\"\n",
    ")\n",
    "plt.scatter(\n",
    "    get(0, [x for j, x in enumerate(X) if Y[j] > 0]),\n",
    "    get(1, [x for j, x in enumerate(X) if Y[j] > 0]),\n",
    "    color='red'\n",
    ")\n",
    "plt.scatter(\n",
    "    get(0, [x for j, x in enumerate(X) if Y[j] < 0]),\n",
    "    get(1, [x for j, x in enumerate(X) if Y[j] < 0]),\n",
    "    color='blue'\n",
    ")\n",
    "plt.show()\n",
    "plt.clf()"
   ]
  },
  {
   "cell_type": "markdown",
   "metadata": {},
   "source": [
    "## Low gamma"
   ]
  },
  {
   "cell_type": "code",
   "execution_count": 13,
   "metadata": {},
   "outputs": [
    {
     "data": {
      "image/png": "[encoded data removed]",
      "text/plain": [
       "<Figure size 432x288 with 1 Axes>"
      ]
     },
     "metadata": {
      "needs_background": "light"
     },
     "output_type": "display_data"
    },
    {
     "data": {
      "text/plain": [
       "<Figure size 432x288 with 0 Axes>"
      ]
     },
     "metadata": {},
     "output_type": "display_data"
    }
   ],
   "source": [
    "X = np.concatenate([np.random.random((50, 2)) * 0.9 + np.array([1, 1]), np.random.random((50,2)) * 0.9 + np.array([2, 2])])\n",
    "Y = np.concatenate([np.ones((50, 1)), np.ones((50, 1)) * -1.0])\n",
    "\n",
    "inputCountPerSample = 100\n",
    "sampleCount = 2\n",
    "gamma = 1\n",
    "\n",
    "rbfModel = CLib.naive_rbf_train(X.flatten(),Y.flatten(),inputCountPerSample,sampleCount,gamma)\n",
    "\n",
    "XToPredict = [[i / 100.0, j / 100.0]for i in range(0, 300) for j in range(0, 300)]\n",
    "YPredicted = [CLib.naive_rbf_classification_predict(rbfModel, x) for x in XToPredict]\n",
    "\n",
    "def get(i, l):\n",
    "    return [z[i] for z in l]\n",
    "\n",
    "yellow = []\n",
    "purple = []\n",
    "\n",
    "for i, val in enumerate(YPredicted):\n",
    "    if YPredicted[i] >= 0:\n",
    "        purple.append(XToPredict[i])\n",
    "    else:\n",
    "        yellow.append(XToPredict[i])\n",
    "        \n",
    "plt.scatter(\n",
    "    get(0, yellow),\n",
    "    get(1, yellow),\n",
    "    color=\"lightblue\"\n",
    ")\n",
    "plt.scatter(\n",
    "    get(0, purple),\n",
    "    get(1, purple),\n",
    "    color=\"tomato\"\n",
    ")\n",
    "plt.scatter(\n",
    "    get(0, [x for j, x in enumerate(X) if Y[j] > 0]),\n",
    "    get(1, [x for j, x in enumerate(X) if Y[j] > 0]),\n",
    "    color='red'\n",
    ")\n",
    "plt.scatter(\n",
    "    get(0, [x for j, x in enumerate(X) if Y[j] < 0]),\n",
    "    get(1, [x for j, x in enumerate(X) if Y[j] < 0]),\n",
    "    color='blue'\n",
    ")\n",
    "plt.show()\n",
    "plt.clf()"
   ]
  },
  {
   "cell_type": "markdown",
   "metadata": {},
   "source": [
    "# XOR"
   ]
  },
  {
   "cell_type": "markdown",
   "metadata": {},
   "source": [
    "## Low gamma"
   ]
  },
  {
   "cell_type": "code",
   "execution_count": 23,
   "metadata": {},
   "outputs": [
    {
     "data": {
      "image/png": "[encoded data removed]",
      "text/plain": [
       "<Figure size 432x288 with 1 Axes>"
      ]
     },
     "metadata": {
      "needs_background": "light"
     },
     "output_type": "display_data"
    },
    {
     "data": {
      "text/plain": [
       "<Figure size 432x288 with 0 Axes>"
      ]
     },
     "metadata": {},
     "output_type": "display_data"
    }
   ],
   "source": [
    "X = np.array([[0, 0], [1, 0], [0, 1], [1, 1]])\n",
    "Y = np.array([1, -1, -1, 1])\n",
    "\n",
    "inputCountPerSample = 4\n",
    "sampleCount = 2\n",
    "gamma = 1\n",
    "\n",
    "rbfModel = CLib.naive_rbf_train(X.flatten(),Y.flatten(),inputCountPerSample,sampleCount,gamma)\n",
    "\n",
    "XToPredict = [[i / 100.0, j / 100.0]for i in range(0, 100) for j in range(0, 100)]\n",
    "YPredicted = [CLib.naive_rbf_classification_predict(rbfModel, x) for x in XToPredict]\n",
    "\n",
    "yellow = []\n",
    "purple = []\n",
    "for i, val in enumerate(YPredicted):\n",
    "    if YPredicted[i] >= 0:\n",
    "        purple.append(XToPredict[i])\n",
    "    else:\n",
    "        yellow.append(XToPredict[i])\n",
    "        \n",
    "plt.scatter(\n",
    "    get(0, yellow),\n",
    "    get(1, yellow),\n",
    "    color=\"lightblue\"\n",
    ")\n",
    "plt.scatter(\n",
    "    get(0, purple),\n",
    "    get(1, purple),\n",
    "    color=\"tomato\"\n",
    ")\n",
    "plt.scatter(\n",
    "    get(0, [x for j, x in enumerate(X) if Y[j] > 0]),\n",
    "    get(1, [x for j, x in enumerate(X) if Y[j] > 0]),\n",
    "    color='red'\n",
    ")\n",
    "plt.scatter(\n",
    "    get(0, [x for j, x in enumerate(X) if Y[j] < 0]),\n",
    "    get(1, [x for j, x in enumerate(X) if Y[j] < 0]),\n",
    "    color='blue'\n",
    ")\n",
    "plt.show()\n",
    "plt.clf()"
   ]
  },
  {
   "cell_type": "markdown",
   "metadata": {},
   "source": [
    "## High gamma"
   ]
  },
  {
   "cell_type": "code",
   "execution_count": 24,
   "metadata": {},
   "outputs": [
    {
     "data": {
      "image/png": "[encoded data removed]",
      "text/plain": [
       "<Figure size 432x288 with 1 Axes>"
      ]
     },
     "metadata": {
      "needs_background": "light"
     },
     "output_type": "display_data"
    },
    {
     "data": {
      "text/plain": [
       "<Figure size 432x288 with 0 Axes>"
      ]
     },
     "metadata": {},
     "output_type": "display_data"
    }
   ],
   "source": [
    "X = np.array([[0, 0], [1, 0], [0, 1], [1, 1]])\n",
    "Y = np.array([1, -1, -1, 1])\n",
    "\n",
    "inputCountPerSample = 4\n",
    "sampleCount = 2\n",
    "gamma = 900\n",
    "\n",
    "rbfModel = CLib.naive_rbf_train(X.flatten(),Y.flatten(),inputCountPerSample,sampleCount,gamma)\n",
    "\n",
    "XToPredict = [[i / 100.0, j / 100.0]for i in range(0, 100) for j in range(0, 100)]\n",
    "YPredicted = [CLib.naive_rbf_classification_predict(rbfModel, x) for x in XToPredict]\n",
    "\n",
    "yellow = []\n",
    "purple = []\n",
    "for i, val in enumerate(YPredicted):\n",
    "    if YPredicted[i] >= 0:\n",
    "        purple.append(XToPredict[i])\n",
    "    else:\n",
    "        yellow.append(XToPredict[i])\n",
    "        \n",
    "plt.scatter(\n",
    "    get(0, yellow),\n",
    "    get(1, yellow),\n",
    "    color=\"lightblue\"\n",
    ")\n",
    "plt.scatter(\n",
    "    get(0, purple),\n",
    "    get(1, purple),\n",
    "    color=\"tomato\"\n",
    ")\n",
    "plt.scatter(\n",
    "    get(0, [x for j, x in enumerate(X) if Y[j] > 0]),\n",
    "    get(1, [x for j, x in enumerate(X) if Y[j] > 0]),\n",
    "    color='red'\n",
    ")\n",
    "plt.scatter(\n",
    "    get(0, [x for j, x in enumerate(X) if Y[j] < 0]),\n",
    "    get(1, [x for j, x in enumerate(X) if Y[j] < 0]),\n",
    "    color='blue'\n",
    ")\n",
    "plt.show()\n",
    "plt.clf()"
   ]
  },
  {
   "cell_type": "markdown",
   "metadata": {},
   "source": [
    "# Multi Class"
   ]
  },
  {
   "cell_type": "code",
   "execution_count": 73,
   "metadata": {},
   "outputs": [],
   "source": [
    "X = np.random.random((500, 2)) * 2.0 - 1.0\n",
    "Y = np.array([ [1, -1, -1] if -p[0] - p[1] - 0.5 > 0 and p[1] < 0 and p[0] - p[1] - 0.5 < 0 else \n",
    "              [-1, 1, -1] if -p[0] - p[1] - 0.5 < 0 and p[1] > 0 and p[0] - p[1] - 0.5 < 0 else \n",
    "              [-1, -1, 1] if -p[0] - p[1] - 0.5 < 0 and p[1] < 0 and p[0] - p[1] - 0.5 > 0 else \n",
    "              [-1, -1, -1] for p in X ])\n",
    "\n",
    "inputCountPerSample = 500\n",
    "sampleCount = 2\n",
    "gamma = 100\n",
    "\n",
    "rbfModel = CLib.naive_rbf_train(X.flatten(),Y.flatten(),inputCountPerSample,sampleCount,gamma)\n",
    "\n",
    "XToPredict = [\n",
    "    [i / 100.0, j / 100.0]\n",
    "    for i in range(-150, 150) for j in range(-150, 150)\n",
    "]\n",
    "YPredicted = [CLib.naive_rbf_classification_predict(rbfModel, x) for x in XToPredict]\n",
    "\n"
   ]
  },
  {
   "cell_type": "code",
   "execution_count": 74,
   "metadata": {},
   "outputs": [],
   "source": [
    "XX = X.tolist()\n",
    "YY = Y.tolist()"
   ]
  },
  {
   "cell_type": "code",
   "execution_count": 75,
   "metadata": {},
   "outputs": [
    {
     "name": "stdout",
     "output_type": "stream",
     "text": [
      "\n"
     ]
    },
    {
     "data": {
      "image/png": "[encoded data removed]",
      "text/plain": [
       "<Figure size 432x288 with 1 Axes>"
      ]
     },
     "metadata": {
      "needs_background": "light"
     },
     "output_type": "display_data"
    },
    {
     "data": {
      "text/plain": [
       "<Figure size 432x288 with 0 Axes>"
      ]
     },
     "metadata": {},
     "output_type": "display_data"
    }
   ],
   "source": [
    "def get(i, l):\n",
    "    return [z[i] for z in l]\n",
    "\n",
    "def chunks(l, n):\n",
    "    return [l[i:i+n] for i in range(0, len(l), n)]\n",
    "\n",
    "res = chunks(YPredicted,3)\n",
    "YPred2 = res\n",
    "\n",
    "yellow = []\n",
    "purple = []\n",
    "brown = []\n",
    "\n",
    "print()\n",
    "\n",
    "for i, val in enumerate(YPred2):\n",
    "    if YPred2[i][0] == 1 :\n",
    "        yellow.append(XToPredict[i])\n",
    "    if YPred2[i][1] == 1 :\n",
    "        brown.append(XToPredict[i])\n",
    "    if YPred2[i][2] == 1 :\n",
    "        purple.append(XToPredict[i])\n",
    "\n",
    "plt.scatter(\n",
    "    get(0, yellow),\n",
    "    get(1, yellow),\n",
    "    color=\"yellow\"\n",
    ")\n",
    "plt.scatter(\n",
    "    get(0, purple),\n",
    "    get(1, purple),\n",
    "    color=\"violet\"\n",
    ")\n",
    "plt.scatter(\n",
    "    get(0, brown),\n",
    "    get(1, brown),\n",
    "    color=\"brown\"\n",
    ")\n",
    "\n",
    "plt.scatter(\n",
    "    get(0, [x for j, x in enumerate(XX) if YY[j] == [1, -1, -1] ]),\n",
    "    get(1, [x for j, x in enumerate(XX) if YY[j] == [1, -1, -1] ]),\n",
    "    color='red'\n",
    ")\n",
    "plt.scatter(\n",
    "    get(0, [x for j, x in enumerate(XX) if YY[j] == [-1, 1, -1] ]),\n",
    "    get(1, [x for j, x in enumerate(XX) if YY[j] == [-1, 1, -1] ]),\n",
    "    color='green'\n",
    ")\n",
    "plt.scatter(\n",
    "    get(0, [x for j, x in enumerate(XX) if YY[j] == [-1, -1, 1] ]),\n",
    "    get(1, [x for j, x in enumerate(XX) if YY[j] == [-1, -1, 1] ]),\n",
    "    color='blue'\n",
    ")\n",
    "plt.show()\n",
    "plt.clf()"
   ]
  },
  {
   "cell_type": "markdown",
   "metadata": {},
   "source": [
    "### "
   ]
  },
  {
   "cell_type": "code",
   "execution_count": null,
   "metadata": {},
   "outputs": [],
   "source": []
  }
 ],
 "metadata": {
  "kernelspec": {
   "display_name": "Python 3",
   "language": "python",
   "name": "python3"
  },
  "language_info": {
   "codemirror_mode": {
    "name": "ipython",
    "version": 3
   },
   "file_extension": ".py",
   "mimetype": "text/x-python",
   "name": "python",
   "nbconvert_exporter": "python",
   "pygments_lexer": "ipython3",
   "version": "3.6.8"
  }
 },
 "nbformat": 4,
 "nbformat_minor": 1
}
