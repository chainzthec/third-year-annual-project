{
 "cells": [
  {
   "cell_type": "markdown",
   "metadata": {},
   "source": [
    "# Perceptron Multi Couches"
   ]
  },
  {
   "cell_type": "code",
   "execution_count": 2,
   "metadata": {},
   "outputs": [
    {
     "ename": "OSError",
     "evalue": "[WinError 193] %1 is not a valid Win32 application",
     "output_type": "error",
     "traceback": [
      "\u001b[1;31m---------------------------------------------------------------------------\u001b[0m",
      "\u001b[1;31mOSError\u001b[0m                                   Traceback (most recent call last)",
      "\u001b[1;32m<ipython-input-2-f115a538f019>\u001b[0m in \u001b[0;36m<module>\u001b[1;34m\u001b[0m\n\u001b[1;32m----> 1\u001b[1;33m \u001b[1;32mimport\u001b[0m \u001b[0mCLibrary\u001b[0m \u001b[1;32mas\u001b[0m \u001b[0mCLib\u001b[0m\u001b[1;33m\u001b[0m\u001b[1;33m\u001b[0m\u001b[0m\n\u001b[0m\u001b[0;32m      2\u001b[0m \u001b[1;32mimport\u001b[0m \u001b[0mmatplotlib\u001b[0m\u001b[1;33m.\u001b[0m\u001b[0mlines\u001b[0m \u001b[1;32mas\u001b[0m \u001b[0mmlines\u001b[0m\u001b[1;33m\u001b[0m\u001b[1;33m\u001b[0m\u001b[0m\n\u001b[0;32m      3\u001b[0m \u001b[1;32mimport\u001b[0m \u001b[0mmatplotlib\u001b[0m\u001b[1;33m.\u001b[0m\u001b[0mpyplot\u001b[0m \u001b[1;32mas\u001b[0m \u001b[0mplt\u001b[0m\u001b[1;33m\u001b[0m\u001b[1;33m\u001b[0m\u001b[0m\n\u001b[0;32m      4\u001b[0m \u001b[1;32mimport\u001b[0m \u001b[0mnumpy\u001b[0m \u001b[1;32mas\u001b[0m \u001b[0mnp\u001b[0m\u001b[1;33m\u001b[0m\u001b[1;33m\u001b[0m\u001b[0m\n\u001b[0;32m      5\u001b[0m \u001b[1;32mimport\u001b[0m \u001b[0mmath\u001b[0m\u001b[1;33m\u001b[0m\u001b[1;33m\u001b[0m\u001b[0m\n",
      "\u001b[1;32m~\\Documents\\00 - Tools\\projet-annuel\\Implementation\\MLP\\CLibrary.py\u001b[0m in \u001b[0;36m<module>\u001b[1;34m\u001b[0m\n\u001b[0;32m     13\u001b[0m     \u001b[0mmyDll\u001b[0m \u001b[1;33m=\u001b[0m \u001b[0mcdll\u001b[0m\u001b[1;33m.\u001b[0m\u001b[0mLoadLibrary\u001b[0m\u001b[1;33m(\u001b[0m\u001b[1;34m\"./Librairie/Linux/MultiLayerPerceptron_Linux.so\"\u001b[0m\u001b[1;33m)\u001b[0m  \u001b[1;31m# For Linux\u001b[0m\u001b[1;33m\u001b[0m\u001b[1;33m\u001b[0m\u001b[0m\n\u001b[0;32m     14\u001b[0m \u001b[1;32mif\u001b[0m \u001b[0mosName\u001b[0m \u001b[1;33m==\u001b[0m \u001b[1;34m\"Windows\"\u001b[0m\u001b[1;33m:\u001b[0m\u001b[1;33m\u001b[0m\u001b[1;33m\u001b[0m\u001b[0m\n\u001b[1;32m---> 15\u001b[1;33m     \u001b[0mmyDll\u001b[0m \u001b[1;33m=\u001b[0m \u001b[0mcdll\u001b[0m\u001b[1;33m.\u001b[0m\u001b[0mLoadLibrary\u001b[0m\u001b[1;33m(\u001b[0m\u001b[1;34m\"./Librairie/Windows/MultiLayerPerceptron_Windows.dll\"\u001b[0m\u001b[1;33m)\u001b[0m  \u001b[1;31m# For Windows\u001b[0m\u001b[1;33m\u001b[0m\u001b[1;33m\u001b[0m\u001b[0m\n\u001b[0m\u001b[0;32m     16\u001b[0m \u001b[1;33m\u001b[0m\u001b[0m\n\u001b[0;32m     17\u001b[0m \u001b[1;33m\u001b[0m\u001b[0m\n",
      "\u001b[1;32mc:\\users\\thuchard\\appdata\\local\\continuum\\miniconda3\\lib\\ctypes\\__init__.py\u001b[0m in \u001b[0;36mLoadLibrary\u001b[1;34m(self, name)\u001b[0m\n\u001b[0;32m    432\u001b[0m \u001b[1;33m\u001b[0m\u001b[0m\n\u001b[0;32m    433\u001b[0m     \u001b[1;32mdef\u001b[0m \u001b[0mLoadLibrary\u001b[0m\u001b[1;33m(\u001b[0m\u001b[0mself\u001b[0m\u001b[1;33m,\u001b[0m \u001b[0mname\u001b[0m\u001b[1;33m)\u001b[0m\u001b[1;33m:\u001b[0m\u001b[1;33m\u001b[0m\u001b[1;33m\u001b[0m\u001b[0m\n\u001b[1;32m--> 434\u001b[1;33m         \u001b[1;32mreturn\u001b[0m \u001b[0mself\u001b[0m\u001b[1;33m.\u001b[0m\u001b[0m_dlltype\u001b[0m\u001b[1;33m(\u001b[0m\u001b[0mname\u001b[0m\u001b[1;33m)\u001b[0m\u001b[1;33m\u001b[0m\u001b[1;33m\u001b[0m\u001b[0m\n\u001b[0m\u001b[0;32m    435\u001b[0m \u001b[1;33m\u001b[0m\u001b[0m\n\u001b[0;32m    436\u001b[0m \u001b[0mcdll\u001b[0m \u001b[1;33m=\u001b[0m \u001b[0mLibraryLoader\u001b[0m\u001b[1;33m(\u001b[0m\u001b[0mCDLL\u001b[0m\u001b[1;33m)\u001b[0m\u001b[1;33m\u001b[0m\u001b[1;33m\u001b[0m\u001b[0m\n",
      "\u001b[1;32mc:\\users\\thuchard\\appdata\\local\\continuum\\miniconda3\\lib\\ctypes\\__init__.py\u001b[0m in \u001b[0;36m__init__\u001b[1;34m(self, name, mode, handle, use_errno, use_last_error)\u001b[0m\n\u001b[0;32m    354\u001b[0m \u001b[1;33m\u001b[0m\u001b[0m\n\u001b[0;32m    355\u001b[0m         \u001b[1;32mif\u001b[0m \u001b[0mhandle\u001b[0m \u001b[1;32mis\u001b[0m \u001b[1;32mNone\u001b[0m\u001b[1;33m:\u001b[0m\u001b[1;33m\u001b[0m\u001b[1;33m\u001b[0m\u001b[0m\n\u001b[1;32m--> 356\u001b[1;33m             \u001b[0mself\u001b[0m\u001b[1;33m.\u001b[0m\u001b[0m_handle\u001b[0m \u001b[1;33m=\u001b[0m \u001b[0m_dlopen\u001b[0m\u001b[1;33m(\u001b[0m\u001b[0mself\u001b[0m\u001b[1;33m.\u001b[0m\u001b[0m_name\u001b[0m\u001b[1;33m,\u001b[0m \u001b[0mmode\u001b[0m\u001b[1;33m)\u001b[0m\u001b[1;33m\u001b[0m\u001b[1;33m\u001b[0m\u001b[0m\n\u001b[0m\u001b[0;32m    357\u001b[0m         \u001b[1;32melse\u001b[0m\u001b[1;33m:\u001b[0m\u001b[1;33m\u001b[0m\u001b[1;33m\u001b[0m\u001b[0m\n\u001b[0;32m    358\u001b[0m             \u001b[0mself\u001b[0m\u001b[1;33m.\u001b[0m\u001b[0m_handle\u001b[0m \u001b[1;33m=\u001b[0m \u001b[0mhandle\u001b[0m\u001b[1;33m\u001b[0m\u001b[1;33m\u001b[0m\u001b[0m\n",
      "\u001b[1;31mOSError\u001b[0m: [WinError 193] %1 is not a valid Win32 application"
     ]
    }
   ],
   "source": [
    "import CLibrary as CLib\n",
    "import matplotlib.lines as mlines\n",
    "import matplotlib.pyplot as plt\n",
    "import numpy as np\n",
    "import math"
   ]
  },
  {
   "cell_type": "code",
   "execution_count": null,
   "metadata": {},
   "outputs": [],
   "source": [
    "def get(i, l):\n",
    "    return [z[i] for z in l]"
   ]
  },
  {
   "cell_type": "code",
   "execution_count": null,
   "metadata": {},
   "outputs": [],
   "source": []
  },
  {
   "cell_type": "markdown",
   "metadata": {},
   "source": [
    "## Single Class"
   ]
  },
  {
   "cell_type": "markdown",
   "metadata": {},
   "source": [
    "### Linear Multiple :\n",
    "- <font color='green'>Linear Model : OK</font>\n",
    "- <font color='green'>MLP (2, 1) : OK</font>"
   ]
  },
  {
   "cell_type": "code",
   "execution_count": 3,
   "metadata": {},
   "outputs": [
    {
     "data": {
      "text/plain": [
       "140611566073248"
      ]
     },
     "execution_count": 3,
     "metadata": {},
     "output_type": "execute_result"
    }
   ],
   "source": [
    "X = np.concatenate([np.random.random((50, 2)) * 0.9 + np.array([1, 1]), np.random.random((50,2)) * 0.9 + np.array([2, 2])])\n",
    "Y = np.concatenate([np.ones((50, 1)), np.ones((50, 1)) * -1.0])\n",
    "\n",
    "XF = X.flatten().tolist()\n",
    "YF = Y.flatten().tolist()\n",
    "\n",
    "N = [2, 1]  \n",
    "mlpClassif_1 = CLib.init(N)\n",
    "\n",
    "sampleCount = 100\n",
    "\n",
    "CLib.fit_classification(\n",
    "    mlpClassif_1,\n",
    "    XF, \n",
    "    YF,\n",
    "    sampleCount,\n",
    "    50000,\n",
    "    0.001 \n",
    ")"
   ]
  },
  {
   "cell_type": "code",
   "execution_count": 4,
   "metadata": {},
   "outputs": [
    {
     "data": {
      "image/png": "[encoded data removed]",
      "text/plain": [
       "<Figure size 432x288 with 1 Axes>"
      ]
     },
     "metadata": {
      "needs_background": "light"
     },
     "output_type": "display_data"
    },
    {
     "data": {
      "text/plain": [
       "<Figure size 432x288 with 0 Axes>"
      ]
     },
     "metadata": {},
     "output_type": "display_data"
    }
   ],
   "source": [
    "XToPredict = [\n",
    "    [i / 100.0, j / 100.0]\n",
    "    for i in range(0, 300) for j in range(0, 300)\n",
    "]\n",
    "YPredicted = [\n",
    "    CLib.predict(mlpClassif_1, x, N) for x in XToPredict\n",
    "]\n",
    "\n",
    "yellow = []\n",
    "purple = []\n",
    "for i, val in enumerate(YPredicted):\n",
    "    if val[0] >= 0:\n",
    "        purple.append(XToPredict[i])\n",
    "    else:\n",
    "        yellow.append(XToPredict[i])\n",
    "        \n",
    "plt.scatter(\n",
    "    get(0, yellow),\n",
    "    get(1, yellow),\n",
    "    color=\"yellow\"\n",
    ")\n",
    "plt.scatter(\n",
    "    get(0, purple),\n",
    "    get(1, purple),\n",
    "    color=\"violet\"\n",
    ")\n",
    "plt.scatter(\n",
    "    get(0, [x for j, x in enumerate(X) if Y[j] > 0]),\n",
    "    get(1, [x for j, x in enumerate(X) if Y[j] > 0]),\n",
    "    color='red'\n",
    ")\n",
    "plt.scatter(\n",
    "    get(0, [x for j, x in enumerate(X) if Y[j] < 0]),\n",
    "    get(1, [x for j, x in enumerate(X) if Y[j] < 0]),\n",
    "    color='blue'\n",
    ")\n",
    "plt.show()\n",
    "plt.clf()"
   ]
  },
  {
   "cell_type": "markdown",
   "metadata": {},
   "source": [
    "### XOR :\n",
    "- <font color='red'>Linear Model : KO</font>\n",
    "- <font color='green'>MLP (2, 2, 1) : OK</font>"
   ]
  },
  {
   "cell_type": "code",
   "execution_count": 16,
   "metadata": {
    "scrolled": true
   },
   "outputs": [
    {
     "data": {
      "text/plain": [
       "140604967432336"
      ]
     },
     "execution_count": 16,
     "metadata": {},
     "output_type": "execute_result"
    }
   ],
   "source": [
    "X = np.array([[0, 0], [1, 0], [0, 1], [1, 1]])\n",
    "Y = np.array([1, -1, -1, 1])\n",
    "\n",
    "XF = X.flatten().tolist()\n",
    "YF = Y.flatten().tolist()\n",
    "\n",
    "sampleCount = 4\n",
    "\n",
    "N = [2, 2, 1]  \n",
    "mlpClassif_2 = CLib.init(N)\n",
    "\n",
    "CLib.fit_classification(\n",
    "    mlpClassif_2,\n",
    "    XF, \n",
    "    YF,\n",
    "    sampleCount,\n",
    "    5000,\n",
    "    0.01 \n",
    ")"
   ]
  },
  {
   "cell_type": "code",
   "execution_count": 17,
   "metadata": {},
   "outputs": [
    {
     "data": {
      "image/png": "[encoded data removed]",
      "text/plain": [
       "<Figure size 432x288 with 1 Axes>"
      ]
     },
     "metadata": {
      "needs_background": "light"
     },
     "output_type": "display_data"
    },
    {
     "data": {
      "text/plain": [
       "<Figure size 432x288 with 0 Axes>"
      ]
     },
     "metadata": {},
     "output_type": "display_data"
    }
   ],
   "source": [
    "XToPredict = [\n",
    "    [i / 100.0, j / 100.0]\n",
    "    for i in range(0, 100) for j in range(0, 100)\n",
    "]\n",
    "YPredicted = [\n",
    "    CLib.predict(mlpClassif_2, x, N) for x in XToPredict\n",
    "]\n",
    "\n",
    "yellow = []\n",
    "purple = []\n",
    "for i, val in enumerate(YPredicted):\n",
    "    if val[0] >= 0:\n",
    "        purple.append(XToPredict[i])\n",
    "    else:\n",
    "        yellow.append(XToPredict[i])\n",
    "        \n",
    "plt.scatter(\n",
    "    get(0, yellow),\n",
    "    get(1, yellow),\n",
    "    color=\"yellow\"\n",
    ")\n",
    "plt.scatter(\n",
    "    get(0, purple),\n",
    "    get(1, purple),\n",
    "    color=\"violet\"\n",
    ")\n",
    "plt.scatter(\n",
    "    get(0, [x for j, x in enumerate(X) if Y[j] > 0]),\n",
    "    get(1, [x for j, x in enumerate(X) if Y[j] > 0]),\n",
    "    color='red'\n",
    ")\n",
    "plt.scatter(\n",
    "    get(0, [x for j, x in enumerate(X) if Y[j] < 0]),\n",
    "    get(1, [x for j, x in enumerate(X) if Y[j] < 0]),\n",
    "    color='blue'\n",
    ")\n",
    "plt.show()\n",
    "plt.clf()"
   ]
  },
  {
   "cell_type": "markdown",
   "metadata": {},
   "source": [
    "### Cross :\n",
    "- <font color='red'>Linear Model : KO</font>\n",
    "- <font color='green'>MLP (2, 4, 1) : OK</font>"
   ]
  },
  {
   "cell_type": "code",
   "execution_count": 7,
   "metadata": {},
   "outputs": [
    {
     "data": {
      "text/plain": [
       "140611384127952"
      ]
     },
     "execution_count": 7,
     "metadata": {},
     "output_type": "execute_result"
    }
   ],
   "source": [
    "X = np.random.random((500, 2)) * 2.0 - 1.0\n",
    "Y = np.array([1 if abs(p[0]) <= 0.3 or abs(p[1]) <= 0.3 else -1 for p in X])\n",
    "\n",
    "XF = X.flatten().tolist()\n",
    "YF = Y.flatten().tolist()\n",
    "\n",
    "sampleCount = 500\n",
    "\n",
    "N = [2, 4, 1]  \n",
    "mlpClassif_3 = CLib.init(N)\n",
    "\n",
    "CLib.fit_classification(\n",
    "    mlpClassif_3,\n",
    "    XF, \n",
    "    YF,\n",
    "    sampleCount,\n",
    "    1000,\n",
    "    0.01 \n",
    ")"
   ]
  },
  {
   "cell_type": "code",
   "execution_count": 8,
   "metadata": {},
   "outputs": [
    {
     "data": {
      "image/png": "[encoded data removed]",
      "text/plain": [
       "<Figure size 432x288 with 1 Axes>"
      ]
     },
     "metadata": {
      "needs_background": "light"
     },
     "output_type": "display_data"
    },
    {
     "data": {
      "text/plain": [
       "<Figure size 432x288 with 0 Axes>"
      ]
     },
     "metadata": {},
     "output_type": "display_data"
    }
   ],
   "source": [
    "XToPredict = [\n",
    "    [i / 100.0, j / 100.0]\n",
    "    for i in range(-100, 100) for j in range(-100, 100)\n",
    "]\n",
    "YPredicted = [\n",
    "    CLib.predict(mlpClassif_3, x, N) for x in XToPredict\n",
    "]\n",
    "\n",
    "yellow = []\n",
    "purple = []\n",
    "for i, val in enumerate(YPredicted):\n",
    "    if val[0] >= 0:\n",
    "        purple.append(XToPredict[i])\n",
    "    else:\n",
    "        yellow.append(XToPredict[i])\n",
    "        \n",
    "plt.scatter(\n",
    "    get(0, yellow),\n",
    "    get(1, yellow),\n",
    "    color=\"yellow\"\n",
    ")\n",
    "plt.scatter(\n",
    "    get(0, purple),\n",
    "    get(1, purple),\n",
    "    color=\"violet\"\n",
    ")\n",
    "plt.scatter(\n",
    "    get(0, [x for j, x in enumerate(X) if Y[j] < 0]),\n",
    "    get(1, [x for j, x in enumerate(X) if Y[j] < 0]),\n",
    "    color='red'\n",
    ")\n",
    "plt.scatter(\n",
    "    get(0, [x for j, x in enumerate(X) if Y[j] > 0]),\n",
    "    get(1, [x for j, x in enumerate(X) if Y[j] > 0]),\n",
    "    color='blue'\n",
    ")\n",
    "plt.show()\n",
    "plt.clf()"
   ]
  },
  {
   "cell_type": "markdown",
   "metadata": {},
   "source": [
    "## Multi Class"
   ]
  },
  {
   "cell_type": "markdown",
   "metadata": {},
   "source": [
    "### Linear Multiple :\n",
    "- <font color='green'>Linear Model : OK</font>\n",
    "- <font color='green'>MLP (2, 3) : OK</font>"
   ]
  },
  {
   "cell_type": "code",
   "execution_count": 10,
   "metadata": {},
   "outputs": [
    {
     "data": {
      "image/png": "[encoded data removed]",
      "text/plain": [
       "<Figure size 432x288 with 1 Axes>"
      ]
     },
     "metadata": {
      "needs_background": "light"
     },
     "output_type": "display_data"
    },
    {
     "data": {
      "text/plain": [
       "<Figure size 432x288 with 0 Axes>"
      ]
     },
     "metadata": {},
     "output_type": "display_data"
    }
   ],
   "source": [
    "X = np.random.random((500, 2)) * 2.0 - 1.0\n",
    "Y = np.array([ [1, -1, -1] if -p[0] - p[1] - 0.5 > 0 and p[1] < 0 and p[0] - p[1] - 0.5 < 0 else \n",
    "              [-1, 1, -1] if -p[0] - p[1] - 0.5 < 0 and p[1] > 0 and p[0] - p[1] - 0.5 < 0 else \n",
    "              [-1, -1, 1] if -p[0] - p[1] - 0.5 < 0 and p[1] < 0 and p[0] - p[1] - 0.5 > 0 else \n",
    "              [-1, -1, -1] for p in X ])\n",
    "\n",
    "XF = X.flatten().tolist()\n",
    "YF = Y.flatten().tolist()\n",
    "\n",
    "XX = X.tolist()\n",
    "YY = Y.tolist()\n",
    "\n",
    "sampleCount = 500\n",
    "\n",
    "N = [2, 2, 3]\n",
    "mlpClassif_4 = CLib.init(N)\n",
    "\n",
    "mlpClassif_4 = CLib.fit_classification(\n",
    "    mlpClassif_4,\n",
    "    XF, \n",
    "    YF,\n",
    "    sampleCount,\n",
    "    10000,\n",
    "    0.1 \n",
    ")\n",
    "\n",
    "XToPredict = [\n",
    "    [i / 100.0, j / 100.0]\n",
    "    for i in range(-150, 150) for j in range(-150, 150)\n",
    "]\n",
    "YPredicted = [\n",
    "    CLib.predict(mlpClassif_4, x, N) for x in XToPredict\n",
    "]\n",
    "\n",
    "yellow = []\n",
    "purple = []\n",
    "brown = []\n",
    "\n",
    "for i, val in enumerate(YPredicted):\n",
    "    \n",
    "    #print(val)\n",
    "    \n",
    "    maxindex = val.index(max(val))\n",
    "    \n",
    "    if maxindex == 0 :\n",
    "        yellow.append(XToPredict[i])\n",
    "    elif maxindex == 1 :\n",
    "        brown.append(XToPredict[i])\n",
    "    elif maxindex == 2 :\n",
    "        purple.append(XToPredict[i])\n",
    "\n",
    "def get(i, l):\n",
    "    return [z[i] for z in l]\n",
    "\n",
    "plt.scatter(\n",
    "    get(0, yellow),\n",
    "    get(1, yellow),\n",
    "    color=\"yellow\"\n",
    ")\n",
    "plt.scatter(\n",
    "    get(0, purple),\n",
    "    get(1, purple),\n",
    "    color=\"violet\"\n",
    ")\n",
    "plt.scatter(\n",
    "    get(0, brown),\n",
    "    get(1, brown),\n",
    "    color=\"brown\"\n",
    ")\n",
    "plt.scatter(\n",
    "    get(0, [x for j, x in enumerate(XX) if YY[j] == [1, -1, -1] ]),\n",
    "    get(1, [x for j, x in enumerate(XX) if YY[j] == [1, -1, -1] ]),\n",
    "    color='red'\n",
    ")\n",
    "plt.scatter(\n",
    "    get(0, [x for j, x in enumerate(XX) if YY[j] == [-1, 1, -1] ]),\n",
    "    get(1, [x for j, x in enumerate(XX) if YY[j] == [-1, 1, -1] ]),\n",
    "    color='green'\n",
    ")\n",
    "plt.scatter(\n",
    "    get(0, [x for j, x in enumerate(XX) if YY[j] == [-1, -1, 1] ]),\n",
    "    get(1, [x for j, x in enumerate(XX) if YY[j] == [-1, -1, 1] ]),\n",
    "    color='blue'\n",
    ")\n",
    "plt.show()\n",
    "plt.clf()"
   ]
  },
  {
   "cell_type": "markdown",
   "metadata": {},
   "source": [
    "### Multi Cross :\n",
    "- <font color='red'>Linear Model x3 : KO</font>\n",
    "- <font color='green'>MLP (2, ?, ?, 1) : OK</font>"
   ]
  },
  {
   "cell_type": "code",
   "execution_count": 11,
   "metadata": {},
   "outputs": [],
   "source": [
    "X = np.random.random((1000, 2)) * 2.0 - 1.0\n",
    "Y = np.array([[1, 0, 0] if abs(p[0] % 0.5) <= 0.25 and abs(p[1] % 0.5) > 0.25 else [0, 1, 0] if abs(p[0] % 0.5) > 0.25 and abs(p[1] % 0.5) <= 0.25 else [0, 0, 1] for p in X])\n",
    "\n",
    "XF = X.flatten().tolist()\n",
    "YF = Y.flatten().tolist()\n",
    "\n",
    "sampleCount = 1000"
   ]
  },
  {
   "cell_type": "markdown",
   "metadata": {},
   "source": [
    "##### 1 - MLP (2, 2, 2, 3)"
   ]
  },
  {
   "cell_type": "code",
   "execution_count": 12,
   "metadata": {},
   "outputs": [],
   "source": [
    "N = [2, 2, 2, 3]\n",
    "mlpClassif_5_1 = CLib.init(N)\n",
    "\n",
    "mlpClassif_5_1 = CLib.fit_classification(\n",
    "    mlpClassif_5_1,\n",
    "    XF, \n",
    "    YF,\n",
    "    sampleCount,\n",
    "    10000,\n",
    "    0.01 \n",
    ")"
   ]
  },
  {
   "cell_type": "code",
   "execution_count": 13,
   "metadata": {
    "scrolled": true
   },
   "outputs": [
    {
     "data": {
      "image/png": "[encoded data removed]",
      "text/plain": [
       "<Figure size 432x288 with 1 Axes>"
      ]
     },
     "metadata": {
      "needs_background": "light"
     },
     "output_type": "display_data"
    },
    {
     "data": {
      "text/plain": [
       "<Figure size 432x288 with 0 Axes>"
      ]
     },
     "metadata": {},
     "output_type": "display_data"
    }
   ],
   "source": [
    "XToPredict = [\n",
    "    [i / 100.0, j / 100.0]\n",
    "    for i in range(-100, 100) for j in range(-100, 100)\n",
    "]\n",
    "YPredicted = [\n",
    "    CLib.predict(mlpClassif_5_1, x, N) for x in XToPredict\n",
    "]\n",
    "\n",
    "yellows = []\n",
    "purples = []\n",
    "browns = []\n",
    "\n",
    "for i, val in enumerate(YPredicted):\n",
    "    #print(val)\n",
    "    maxindex = val.index(max(val))\n",
    "    \n",
    "    if maxindex == 0:\n",
    "        yellows.append(XToPredict[i])\n",
    "    elif maxindex == 1:\n",
    "        browns.append(XToPredict[i])\n",
    "    elif maxindex == 2:\n",
    "        purples.append(XToPredict[i])\n",
    "\n",
    "def get(i, l):\n",
    "    return [z[i] for z in l]\n",
    "\n",
    "plt.scatter(\n",
    "    get(0, yellows),\n",
    "    get(1, yellows),\n",
    "    color=\"yellow\"\n",
    ")\n",
    "plt.scatter(\n",
    "    get(0, purples),\n",
    "    get(1, purples),\n",
    "    color=\"violet\"\n",
    ")\n",
    "plt.scatter(\n",
    "    get(0, browns),\n",
    "    get(1, browns),\n",
    "    color=\"brown\"\n",
    ")\n",
    "plt.scatter(\n",
    "    get(0, [x for j, x in enumerate(X) if (Y[j] == [1, 0, 0]).all() ]),\n",
    "    get(1, [x for j, x in enumerate(X) if (Y[j] == [1, 0, 0]).all() ]),\n",
    "    color='red'\n",
    ")\n",
    "plt.scatter(\n",
    "    get(0, [x for j, x in enumerate(X) if (Y[j] == [0, 1, 0]).all() ]),\n",
    "    get(1, [x for j, x in enumerate(X) if (Y[j] == [0, 1, 0]).all() ]),\n",
    "    color='green'\n",
    ")\n",
    "plt.scatter(\n",
    "    get(0, [x for j, x in enumerate(X) if (Y[j] == [0, 0, 1]).all() ]),\n",
    "    get(1, [x for j, x in enumerate(X) if (Y[j] == [0, 0, 1]).all() ]),\n",
    "    color='blue'\n",
    ")\n",
    "plt.show()\n",
    "plt.clf()"
   ]
  },
  {
   "cell_type": "code",
   "execution_count": null,
   "metadata": {},
   "outputs": [],
   "source": []
  },
  {
   "cell_type": "markdown",
   "metadata": {},
   "source": [
    "##### 1 - MLP (2, 4, 6, 3)"
   ]
  },
  {
   "cell_type": "code",
   "execution_count": 14,
   "metadata": {},
   "outputs": [
    {
     "data": {
      "text/plain": [
       "140610701451696"
      ]
     },
     "execution_count": 14,
     "metadata": {},
     "output_type": "execute_result"
    }
   ],
   "source": [
    "N = [2, 4, 6, 3]\n",
    "mlpClassif_5_2 = CLib.init(N)\n",
    "\n",
    "CLib.fit_classification(\n",
    "    mlpClassif_5_2,\n",
    "    XF, \n",
    "    YF,\n",
    "    sampleCount,\n",
    "    10000,\n",
    "    0.01 \n",
    ")"
   ]
  },
  {
   "cell_type": "code",
   "execution_count": 15,
   "metadata": {},
   "outputs": [
    {
     "data": {
      "image/png": "[encoded data removed]",
      "text/plain": [
       "<Figure size 432x288 with 1 Axes>"
      ]
     },
     "metadata": {
      "needs_background": "light"
     },
     "output_type": "display_data"
    },
    {
     "data": {
      "text/plain": [
       "<Figure size 432x288 with 0 Axes>"
      ]
     },
     "metadata": {},
     "output_type": "display_data"
    }
   ],
   "source": [
    "XToPredict = [\n",
    "    [i / 100.0, j / 100.0]\n",
    "    for i in range(-100, 100) for j in range(-100, 100)\n",
    "]\n",
    "YPredicted = [\n",
    "    CLib.predict(mlpClassif_5_2, x, N) for x in XToPredict\n",
    "]\n",
    "\n",
    "reds = []\n",
    "blues = []\n",
    "greens = []\n",
    "\n",
    "for i, val in enumerate(YPredicted):\n",
    "    maxindex = val.index(max(val))\n",
    "    \n",
    "    if maxindex == 0:\n",
    "        reds.append(XToPredict[i])\n",
    "    elif maxindex == 1:\n",
    "        greens.append(XToPredict[i])\n",
    "    elif maxindex == 2:\n",
    "        blues.append(XToPredict[i])\n",
    "\n",
    "def get(i, l):\n",
    "    return [z[i] for z in l]\n",
    "\n",
    "plt.scatter(\n",
    "    get(0, reds),\n",
    "    get(1, reds),\n",
    "    color=\"yellow\"\n",
    ")\n",
    "plt.scatter(\n",
    "    get(0, blues),\n",
    "    get(1, blues),\n",
    "    color=\"violet\"\n",
    ")\n",
    "plt.scatter(\n",
    "    get(0, greens),\n",
    "    get(1, greens),\n",
    "    color=\"brown\"\n",
    ")\n",
    "plt.scatter(\n",
    "    get(0, [x for j, x in enumerate(X) if (Y[j] == [1, 0, 0]).all() ]),\n",
    "    get(1, [x for j, x in enumerate(X) if (Y[j] == [1, 0, 0]).all() ]),\n",
    "    color='red'\n",
    ")\n",
    "plt.scatter(\n",
    "    get(0, [x for j, x in enumerate(X) if (Y[j] == [0, 1, 0]).all() ]),\n",
    "    get(1, [x for j, x in enumerate(X) if (Y[j] == [0, 1, 0]).all() ]),\n",
    "    color='green'\n",
    ")\n",
    "plt.scatter(\n",
    "    get(0, [x for j, x in enumerate(X) if (Y[j] == [0, 0, 1]).all() ]),\n",
    "    get(1, [x for j, x in enumerate(X) if (Y[j] == [0, 0, 1]).all() ]),\n",
    "    color='blue'\n",
    ")\n",
    "plt.show()\n",
    "plt.clf()"
   ]
  },
  {
   "cell_type": "code",
   "execution_count": null,
   "metadata": {},
   "outputs": [],
   "source": []
  }
 ],
 "metadata": {
  "kernelspec": {
   "display_name": "Python 3",
   "language": "python",
   "name": "python3"
  },
  "language_info": {
   "codemirror_mode": {
    "name": "ipython",
    "version": 3
   },
   "file_extension": ".py",
   "mimetype": "text/x-python",
   "name": "python",
   "nbconvert_exporter": "python",
   "pygments_lexer": "ipython3",
   "version": "3.7.3"
  },
  "widgets": {
   "application/vnd.jupyter.widget-state+json": {
    "state": {},
    "version_major": 2,
    "version_minor": 0
   }
  }
 },
 "nbformat": 4,
 "nbformat_minor": 2
}
